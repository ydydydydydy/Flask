{
 "cells": [
  {
   "cell_type": "markdown",
   "metadata": {
    "id": "qGZSvi8mVGjR"
   },
   "source": [
    "# 학습목표\n",
    "\n",
    "- Flask 사용법 학습하기\n",
    "- Flask를 이용한 웹서버 구축하기\n",
    "- Flask를 이용한 DB연동 웹페이지 구축하기"
   ]
  },
  {
   "cell_type": "markdown",
   "metadata": {
    "id": "uWQPs2ulVGjR"
   },
   "source": [
    "# Flask 설치 및 서버 실행하기\n",
    "\n",
    "- 플라스크(Flask)는 파이썬으로 작성된 마이크로 웹 프레임워크의 하나\n",
    "  - 특별한 도구나 라이브러리가 필요 없음\n",
    "  \n",
    "##  flask 설치하기"
   ]
  },
  {
   "cell_type": "code",
   "execution_count": 1,
   "metadata": {
    "id": "5iUjaxRzVGjS",
    "scrolled": true
   },
   "outputs": [
    {
     "name": "stdout",
     "output_type": "stream",
     "text": [
      "Requirement already satisfied: flask in c:\\users\\smhrd\\appdata\\local\\anaconda3\\lib\\site-packages (2.2.2)\n",
      "Requirement already satisfied: Werkzeug>=2.2.2 in c:\\users\\smhrd\\appdata\\local\\anaconda3\\lib\\site-packages (from flask) (2.2.3)\n",
      "Requirement already satisfied: Jinja2>=3.0 in c:\\users\\smhrd\\appdata\\local\\anaconda3\\lib\\site-packages (from flask) (3.1.2)\n",
      "Requirement already satisfied: itsdangerous>=2.0 in c:\\users\\smhrd\\appdata\\local\\anaconda3\\lib\\site-packages (from flask) (2.0.1)\n",
      "Requirement already satisfied: click>=8.0 in c:\\users\\smhrd\\appdata\\local\\anaconda3\\lib\\site-packages (from flask) (8.0.4)\n",
      "Requirement already satisfied: colorama in c:\\users\\smhrd\\appdata\\local\\anaconda3\\lib\\site-packages (from click>=8.0->flask) (0.4.6)\n",
      "Requirement already satisfied: MarkupSafe>=2.0 in c:\\users\\smhrd\\appdata\\local\\anaconda3\\lib\\site-packages (from Jinja2>=3.0->flask) (2.1.1)\n"
     ]
    }
   ],
   "source": [
    "# Flask 설치\n",
    "!pip install flask"
   ]
  },
  {
   "cell_type": "markdown",
   "metadata": {
    "id": "TpigevhCVGjT"
   },
   "source": [
    "## flask 서버 실행하기\n",
    "\n",
    "- <font color=red>app = Flask(\\_\\_name\\_\\_)</font> : Flask 객체를 app 변수에 할당\n",
    "- <font color=red>@app.route(\"/\")</font> : Flask에게 어떤 URL이 해당 함수를 실행하는지 알려줌\n",
    "- <font color=red>app.run(host='127.0.0.1', port=5000)</font>\n",
    "  - 서버 IP, 포트 등을 설정하고 서버를 실행\n",
    "  - 브라우저에서 IP와 포트로 서버 접속\n",
    "   \n",
    "<img src=\"https://arome1004.cafe24.com/images/python_db/lecture_image/003_flask01.png\" width=50%>"
   ]
  },
  {
   "cell_type": "code",
   "execution_count": 3,
   "metadata": {
    "colab": {
     "base_uri": "https://localhost:8080/",
     "height": 167
    },
    "executionInfo": {
     "elapsed": 8710,
     "status": "ok",
     "timestamp": 1694706916308,
     "user": {
      "displayName": "강성관",
      "userId": "00571094306841577419"
     },
     "user_tz": -540
    },
    "id": "ejvWeb9wVGjT",
    "outputId": "9ec3a2c6-4475-475a-d395-04355c26d0de",
    "scrolled": true
   },
   "outputs": [
    {
     "name": "stdout",
     "output_type": "stream",
     "text": [
      " * Serving Flask app '__main__'\n",
      " * Debug mode: off\n"
     ]
    },
    {
     "name": "stderr",
     "output_type": "stream",
     "text": [
      "WARNING: This is a development server. Do not use it in a production deployment. Use a production WSGI server instead.\n",
      " * Running on http://59.0.124.5:9000\n",
      "Press CTRL+C to quit\n",
      "59.0.124.5 - - [21/Dec/2023 12:27:31] \"GET / HTTP/1.1\" 200 -\n",
      "59.0.124.5 - - [21/Dec/2023 12:27:31] code 400, message Bad request version ('qPVË\\x83\\x13¶{\\x12T\\x08Ñù\\x9eæVÕ0åï¯ý÷â¥kî»\\x0ew°>\\x00+\\x00\\x07\\x06JJ\\x03\\x04\\x03\\x03ÿ\\x01\\x00\\x01\\x00\\x00')\n",
      "¨[.Ìù´\u000b",
      "\u0000-\u0000\u0002\u0001\u0001\u0000\u0010\u0000\u000e\u0000\f",
      "\u0002hhttp/1.1\u00003\u0000+\u0000)::\u0000\u0001\u0000\u0000\u001d",
      "\u0000 qPVË\u0013¶{\u0012ÑùæVÕ0åï¯ý÷â¥kî»\u000ew°>\u0000+\u0000\u0007\u0006JJ\u0003\u0004\u0003\u0003ÿ\u0001\u0000\u0001\u0000\u0000t-¬^\u0013\u0012×\u0012À§ÎÛLnME+°SP}È·rðÛ« ¹TGàLµñ\u0005êý%eÜ¾|\u0006Õzæ¹ù²¨-ÉþM \\wàÙÊ\u001c",
      "®*#¸'AM\u001f0dð'\u001auJ\u0003çw?Ö6\u0015ê\u0017\"Íþ\u0002âSbµ¯\u001b¨\u0000\u0018\u000eD\u0014õÃ(Äo\u001d",
      "\u0006*ézÊl<ÞX¹IA\u001bÃ_Çø¨^íØ¿S5E:ù³¬Î©ú\u0015«Au\\ôÄcë\u0004¤wD¡P\" 400 -\n",
      "59.0.124.5 - - [21/Dec/2023 12:27:31] code 400, message Bad request version ('E«=,\\x1akÁ\\x8f')\n",
      "59.0.124.5 - - [21/Dec/2023 12:27:31] \"\u0016\u0003\u0001\u0002:\u0001\u0000\u00026\u0003\u0003Øù½ôU¶[Ñd-æ¸²\u001fBôz3¬LÖM",
      "­àPóFöp ìn¶9¨b(!|ã]kÊ\u0011ÂÍñå:M[É7\u0000 úú\u0013\u0001\u0013\u0002\u0013\u0003À+À/À,À0Ì©Ì¨À\u0013À\u0014\u0000\u0000\u0000/\u00005\u0001\u0000\u0001Íúú\u0000\u0000\u0000-\u0000\u0002\u0001\u0001\u0000+\u0000\u0007\u0006::\u0003\u0004\u0003\u0003\u0000\u001b\u0000\u0003\u0002\u0000\u0002\u0000\u0012\u0000\u0000ÿ\u0001\u0000\u0001\u0000\u0000\u0005\u0000\u0005\u0001\u0000\u0000\u0000\u0000\u0000\u000b",
      "\u0000\u0002\u0001\u0000\u0000\u0010\u0000\u000e\u0000\f",
      "\u0002hhttp/1.1\u00003\u0000+\u0000)úú\u0000\u0001\u0000\u0000\u001d",
      "\u0000 lèA\u001f\u001c",
      "E«=,\u001akÁ\" 400 -\n"
     ]
    }
   ],
   "source": [
    "from flask import Flask\n",
    "\n",
    "# 초기화\n",
    "app = Flask(__name__)\n",
    "\n",
    "# 웹서버의 root 경로\n",
    "@app.route(\"/\")\n",
    "def hello() :\n",
    "    return \"Hello World !! - 홍길동\"\n",
    "\n",
    "# 서버 실행\n",
    "if __name__ == \"__main__\" :\n",
    "    app.run(host=\"59.0.124.5\", port=\"9000\")"
   ]
  },
  {
   "cell_type": "markdown",
   "metadata": {
    "id": "VylPRvR4VGjU"
   },
   "source": [
    "## URL를 함수로 연결하기\n",
    "\n",
    "- <font color=red>@app.route(\"/hello\")</font>\n",
    "  - URL에  함수명을 설정\n",
    "  - 브라우저에서 IP와 포트로 서버 접속하고 URL로 함수명을 넘김\n",
    "  \n",
    "<img src=\"https://arome1004.cafe24.com/images/python_db/lecture_image/003_flask02.png\" width=50%>"
   ]
  },
  {
   "cell_type": "code",
   "execution_count": 6,
   "metadata": {
    "colab": {
     "base_uri": "https://localhost:8080/",
     "height": 185
    },
    "executionInfo": {
     "elapsed": 29112,
     "status": "ok",
     "timestamp": 1694707191248,
     "user": {
      "displayName": "강성관",
      "userId": "00571094306841577419"
     },
     "user_tz": -540
    },
    "id": "e_f1F8ArVGjU",
    "outputId": "f51315e8-331e-4e3f-b4ef-e88e41acef08"
   },
   "outputs": [
    {
     "name": "stdout",
     "output_type": "stream",
     "text": [
      " * Serving Flask app '__main__'\n",
      " * Debug mode: off\n"
     ]
    },
    {
     "name": "stderr",
     "output_type": "stream",
     "text": [
      "WARNING: This is a development server. Do not use it in a production deployment. Use a production WSGI server instead.\n",
      " * Running on http://59.0.124.5:9003\n",
      "Press CTRL+C to quit\n",
      "59.0.124.5 - - [21/Dec/2023 12:31:41] \"GET / HTTP/1.1\" 200 -\n",
      "59.0.124.5 - - [21/Dec/2023 12:31:41] \"GET /favicon.ico HTTP/1.1\" 404 -\n",
      "59.0.124.5 - - [21/Dec/2023 12:31:50] \"GET / HTTP/1.1\" 200 -\n"
     ]
    }
   ],
   "source": [
    "from flask import Flask\n",
    "\n",
    "app = Flask(__name__)\n",
    "\n",
    "@app.route(\"/\")\n",
    "def menu() :\n",
    "    return \"안녕하세요 !! 길동이 홈입니다\"\n",
    "\n",
    "@app.route(\"/menu1\") \n",
    "def menu1() :\n",
    "    return \"길동이 홈 메뉴1 화면입니다.....\"\n",
    "\n",
    "if __name__ == \"__main__\" :\n",
    "    app.run(host=\"59.0.124.5\", port=9003)"
   ]
  },
  {
   "cell_type": "markdown",
   "metadata": {
    "id": "LmHY9M3zVGjU"
   },
   "source": [
    "### URL을 변수로 사용하기\n",
    "\n",
    "- @app.route(\"/hello/<value>\")\n",
    "  - URL에  value 값을 설정\n",
    "  - 브라우저에서 IP와 포트로 서버 접속하고 URL로 100을 넘김\n",
    "    \n",
    "<img src=\"https://arome1004.cafe24.com/images/python_db/lecture_image/003_flask03.png\" width=50%>  "
   ]
  },
  {
   "cell_type": "code",
   "execution_count": 8,
   "metadata": {
    "colab": {
     "base_uri": "https://localhost:8080/",
     "height": 185
    },
    "executionInfo": {
     "elapsed": 17671,
     "status": "ok",
     "timestamp": 1694707227934,
     "user": {
      "displayName": "강성관",
      "userId": "00571094306841577419"
     },
     "user_tz": -540
    },
    "id": "nkOP6yimVGjU",
    "outputId": "5ac337dc-b22d-44fb-e3cc-aae28e43dd48",
    "scrolled": true
   },
   "outputs": [
    {
     "name": "stdout",
     "output_type": "stream",
     "text": [
      " * Serving Flask app '__main__'\n",
      " * Debug mode: off\n"
     ]
    },
    {
     "name": "stderr",
     "output_type": "stream",
     "text": [
      "WARNING: This is a development server. Do not use it in a production deployment. Use a production WSGI server instead.\n",
      " * Running on http://59.0.124.5:9003\n",
      "Press CTRL+C to quit\n",
      "59.0.124.5 - - [21/Dec/2023 12:33:50] \"GET / HTTP/1.1\" 200 -\n",
      "59.0.124.5 - - [21/Dec/2023 12:34:08] \"GET / HTTP/1.1\" 200 -\n",
      "59.0.124.5 - - [21/Dec/2023 12:34:22] \"GET /login/홍길동 HTTP/1.1\" 200 -\n"
     ]
    }
   ],
   "source": [
    "from flask import Flask\n",
    "\n",
    "app = Flask(__name__)\n",
    "\n",
    "@app.route(\"/\")\n",
    "def index() :\n",
    "    return \"길동이 홈\"\n",
    "\n",
    "@app.route(\"/login/<id>\")\n",
    "def login(id) :\n",
    "    return f\"길동이 홈 (아이디 : {id})\"\n",
    "\n",
    "if __name__ == \"__main__\" :\n",
    "    app.run(host=\"59.0.124.5\", port=9003)"
   ]
  },
  {
   "cell_type": "markdown",
   "metadata": {
    "id": "hOfNZpGTw8Yv"
   },
   "source": [
    "- 2개 이상의 변수 사용하기\n",
    "\n",
    "<img src=\"https://arome1004.cafe24.com/images/python_db/lecture_image/003_flask03_2.png\" width=50%>"
   ]
  },
  {
   "cell_type": "code",
   "execution_count": 7,
   "metadata": {
    "colab": {
     "base_uri": "https://localhost:8080/",
     "height": 185
    },
    "executionInfo": {
     "elapsed": 20984,
     "status": "ok",
     "timestamp": 1694707264552,
     "user": {
      "displayName": "강성관",
      "userId": "00571094306841577419"
     },
     "user_tz": -540
    },
    "id": "ZSM95KCNVGjU",
    "outputId": "682ab925-0a32-4479-948b-84c04d5223cd"
   },
   "outputs": [
    {
     "name": "stdout",
     "output_type": "stream",
     "text": [
      " * Serving Flask app '__main__'\n",
      " * Debug mode: off\n"
     ]
    },
    {
     "name": "stderr",
     "output_type": "stream",
     "text": [
      "WARNING: This is a development server. Do not use it in a production deployment. Use a production WSGI server instead.\n",
      " * Running on http://172.30.1.21:9005\n",
      "Press CTRL+C to quit\n",
      "172.30.1.21 - - [03/Nov/2023 14:57:42] \"GET / HTTP/1.1\" 200 -\n",
      "172.30.1.21 - - [03/Nov/2023 14:57:42] \"GET /favicon.ico HTTP/1.1\" 404 -\n",
      "172.30.1.21 - - [03/Nov/2023 14:57:57] \"GET /login/Hong%201234 HTTP/1.1\" 200 -\n"
     ]
    }
   ],
   "source": [
    "from flask import Flask\n",
    "\n",
    "app = Flask(__name__)\n",
    "\n",
    "@app.route(\"/\")\n",
    "def index() :\n",
    "    return \"길동이 홈\"\n",
    "\n",
    "@app.route(\"/login/<id> <pw>\")\n",
    "def login(id, pw) :\n",
    "    return f\"길동이 홈 (아이디 : {id}, 패스워드 : {pw})\"\n",
    "\n",
    "if __name__ == \"__main__\" :\n",
    "    app.run(host=\"59.0.124.5\", port=9005)"
   ]
  },
  {
   "cell_type": "markdown",
   "metadata": {
    "id": "Ww2JKT6bVGjV"
   },
   "source": [
    "### html 문서를 반환하기\n",
    "\n",
    "- <font color=red>render_template(\"hello.html\")</font>\n",
    "  - hello.html 문서를 반환\n",
    "\n",
    "- hello.html 파일을 작성하고 templates 폴더를 생성하고 저장\n",
    "- 브라우저에서 IP와 포트로 서버 접속\n",
    "\n",
    "  <img src=\"https://arome1004.cafe24.com/images/opencv/lecture_image/04_flask04.png\" width=50%>  "
   ]
  },
  {
   "cell_type": "code",
   "execution_count": 9,
   "metadata": {
    "id": "YzAKnrqgbiKY"
   },
   "outputs": [],
   "source": [
    "import os\n",
    "\n",
    "temp_dir = \"./templates\"\n",
    "\n",
    "# 해당 폴더가 없다면\n",
    "if not os.path.exists(temp_dir) :\n",
    "    # 폴더 생성\n",
    "    os.mkdir(temp_dir)"
   ]
  },
  {
   "cell_type": "code",
   "execution_count": 10,
   "metadata": {
    "colab": {
     "base_uri": "https://localhost:8080/"
    },
    "executionInfo": {
     "elapsed": 1122,
     "status": "ok",
     "timestamp": 1694707589557,
     "user": {
      "displayName": "강성관",
      "userId": "00571094306841577419"
     },
     "user_tz": -540
    },
    "id": "q5BGUN28VGjV",
    "outputId": "e206a935-07b5-4f36-b884-649460f282cb"
   },
   "outputs": [
    {
     "name": "stdout",
     "output_type": "stream",
     "text": [
      "Writing ./templates/hello.html\n"
     ]
    }
   ],
   "source": [
    "%%writefile ./templates/hello.html\n",
    "<html>\n",
    "<body>\n",
    "<h1>Hello World !! </h1>\n",
    "</body>\n",
    "</html>"
   ]
  },
  {
   "cell_type": "markdown",
   "metadata": {},
   "source": [
    "- 간단한 웹페이지를 작성해서 test.html로 저장하고 /test로 라우팅하면 해당 html문서를 띄우도록 해보세요"
   ]
  },
  {
   "cell_type": "code",
   "execution_count": 12,
   "metadata": {},
   "outputs": [
    {
     "name": "stdout",
     "output_type": "stream",
     "text": [
      "Overwriting ./templates/test.html\n"
     ]
    }
   ],
   "source": [
    "%%writefile ./templates/test.html\n",
    "<html>\n",
    "<body>\n",
    "  <div class=\"container w-75 my-5 p-5 bg-warning text-center shadow\">\n",
    "    <h1 class=\"text-dark\">Bootstrap :: Login</h1>\n",
    "    <hr>\n",
    "    <div class=\"container w-50 text-left\">\n",
    "        <div class=\"form-group\">\n",
    "          <label>User ID</label>\n",
    "          <input type=\"text\" class=\"form-control\" placeholder=\"Enter user id or email\">\n",
    "        </div>\n",
    "        <div class=\"form-group\">\n",
    "          <label>Password</label>\n",
    "          <input type=\"password\" class=\"form-control\" placeholder=\"Enter password\">\n",
    "        </div>\n",
    "        <button class=\"btn btn-info\">Sign in</button>\n",
    "        <button class=\"btn btn-primary\">Sign up</button>\n",
    "    </div>\n",
    "    <hr>\n",
    "    <div class=\"alert alert-danger alert-dismissible fade show w-75 mx-auto\">\n",
    "      <button type=\"button\" class=\"close\" data-dismiss=\"alert\">&times;</button>\n",
    "      <strong>Warning!</strong> User ID or Password incorrect !!\n",
    "    </div>\n",
    "  </div>\n",
    "\n",
    "</body>\n",
    "</html>"
   ]
  },
  {
   "cell_type": "code",
   "execution_count": 11,
   "metadata": {
    "colab": {
     "base_uri": "https://localhost:8080/",
     "height": 167
    },
    "executionInfo": {
     "elapsed": 7487,
     "status": "ok",
     "timestamp": 1694707649776,
     "user": {
      "displayName": "강성관",
      "userId": "00571094306841577419"
     },
     "user_tz": -540
    },
    "id": "Us9DSVbIVGjV",
    "outputId": "3b39a832-f441-427e-c1a0-6822eb9f390d"
   },
   "outputs": [
    {
     "name": "stdout",
     "output_type": "stream",
     "text": [
      " * Serving Flask app '__main__'\n",
      " * Debug mode: off\n"
     ]
    },
    {
     "name": "stderr",
     "output_type": "stream",
     "text": [
      "WARNING: This is a development server. Do not use it in a production deployment. Use a production WSGI server instead.\n",
      " * Running on http://59.0.124.5:9004\n",
      "Press CTRL+C to quit\n",
      "59.0.124.5 - - [21/Dec/2023 12:39:20] \"GET / HTTP/1.1\" 200 -\n",
      "59.0.124.5 - - [21/Dec/2023 12:39:20] \"GET /favicon.ico HTTP/1.1\" 404 -\n"
     ]
    }
   ],
   "source": [
    "from flask import Flask, render_template\n",
    "\n",
    "app = Flask(__name__)\n",
    "\n",
    "@app.route(\"/\")\n",
    "def index() :\n",
    "    return render_template(\"hello.html\")\n",
    "\n",
    "@app.route(\"/test\")\n",
    "def test() :\n",
    "    return render_template(\"test.html\")\n",
    "\n",
    "if __name__ == \"__main__\" :\n",
    "    app.run(host=\"59.0.124.5\", port=9004)"
   ]
  },
  {
   "cell_type": "markdown",
   "metadata": {
    "id": "j7olaJSmVGjV"
   },
   "source": [
    "### 이미지가 포함된 문서 반환하기\n",
    "\n",
    "- static 폴더 : 자원을 담아 놓는 폴더\n",
    "- static 폴더에 이미지 폴더를 만들고 출력할 이미지를 저장"
   ]
  },
  {
   "cell_type": "code",
   "execution_count": 12,
   "metadata": {
    "id": "H8PHjq_7cemt"
   },
   "outputs": [],
   "source": [
    "import os\n",
    "\n",
    "temp_dir = \"./static\"\n",
    "\n",
    "if not os.path.exists(temp_dir) :\n",
    "    os.mkdir(temp_dir)"
   ]
  },
  {
   "cell_type": "markdown",
   "metadata": {},
   "source": [
    "- Jinja Template \n",
    "  - HTML 문서에 파이썬 코드를 삽입해서 실행하게 하는 도구\n",
    "  - {{ 파이썬 코드 }}, { 파이썬 변수선언 }\n",
    "  \n",
    "- JSP : HTML 문서에 자바 코드를 삽입해서 실행하게 하는 도구\n",
    "  - <% 자바 코드 %>, <%= 자바 변수 선언 %>\n",
    "- PHP : HTML 문서에 C언어 코드를 삽입해서 실행하게 하는 도구"
   ]
  },
  {
   "cell_type": "code",
   "execution_count": 20,
   "metadata": {},
   "outputs": [
    {
     "name": "stdout",
     "output_type": "stream",
     "text": [
      "Overwriting ./templates/test2.html\n"
     ]
    }
   ],
   "source": [
    "%%writefile ./templates/test2.html\n",
    "<html>\n",
    "<body>\n",
    "{% set a = \"홍길동\" %}\n",
    "\n",
    "<h1>{{ a }}</h1>\n",
    "</body>\n",
    "</html>"
   ]
  },
  {
   "cell_type": "code",
   "execution_count": 22,
   "metadata": {
    "colab": {
     "base_uri": "https://localhost:8080/"
    },
    "executionInfo": {
     "elapsed": 457,
     "status": "ok",
     "timestamp": 1694707546827,
     "user": {
      "displayName": "강성관",
      "userId": "00571094306841577419"
     },
     "user_tz": -540
    },
    "id": "VVhyTC_cVGjV",
    "outputId": "84d3e42f-ef91-4c16-cd5f-b17aa9e7973a"
   },
   "outputs": [
    {
     "name": "stdout",
     "output_type": "stream",
     "text": [
      "Overwriting ./templates/imgdisp.html\n"
     ]
    }
   ],
   "source": [
    "%%writefile ./templates/imgdisp.html\n",
    "<html>\n",
    "<body>\n",
    "<img src=\"{{url_for('static', filename='pororo.jpg')}}\" width=\"50%\">\n",
    "</body>\n",
    "</html>"
   ]
  },
  {
   "cell_type": "code",
   "execution_count": null,
   "metadata": {
    "colab": {
     "base_uri": "https://localhost:8080/",
     "height": 185
    },
    "executionInfo": {
     "elapsed": 9732,
     "status": "ok",
     "timestamp": 1694707672933,
     "user": {
      "displayName": "강성관",
      "userId": "00571094306841577419"
     },
     "user_tz": -540
    },
    "id": "sS2lxNtvVGjV",
    "outputId": "e73433e2-db41-4527-99ac-9b9dcc221e5e"
   },
   "outputs": [
    {
     "name": "stdout",
     "output_type": "stream",
     "text": [
      " * Serving Flask app '__main__'\n",
      " * Debug mode: off\n"
     ]
    },
    {
     "name": "stderr",
     "output_type": "stream",
     "text": [
      "WARNING: This is a development server. Do not use it in a production deployment. Use a production WSGI server instead.\n",
      " * Running on http://59.0.124.5:9006\n",
      "Press CTRL+C to quit\n",
      "59.0.124.5 - - [21/Dec/2023 12:49:49] \"GET / HTTP/1.1\" 200 -\n",
      "59.0.124.5 - - [21/Dec/2023 12:49:49] \"GET /favicon.ico HTTP/1.1\" 404 -\n",
      "59.0.124.5 - - [21/Dec/2023 12:49:53] \"GET /imgdisp HTTP/1.1\" 200 -\n",
      "59.0.124.5 - - [21/Dec/2023 12:49:53] \"GET /static/pororo.jpg HTTP/1.1\" 200 -\n"
     ]
    }
   ],
   "source": [
    "from flask import Flask, render_template\n",
    "\n",
    "app = Flask(__name__)\n",
    "\n",
    "@app.route(\"/\")\n",
    "def index() :\n",
    "    return render_template(\"test2.html\")\n",
    "\n",
    "@app.route(\"/imgdisp\")\n",
    "def imgdisp() :\n",
    "    return render_template(\"imgdisp.html\")\n",
    "\n",
    "if __name__ == \"__main__\" :\n",
    "    app.run(host=\"59.0.124.5\", port=\"9006\")"
   ]
  },
  {
   "cell_type": "markdown",
   "metadata": {
    "id": "DYKNPuzMVGjW"
   },
   "source": [
    "# 데이터 스트리밍 구현\n",
    "\n",
    "## 구현 방법"
   ]
  },
  {
   "cell_type": "markdown",
   "metadata": {
    "id": "h8wsF0KLVGjW"
   },
   "source": [
    "- yield() 함수 배우기\n",
    "\n",
    "  \n",
    "  <img src=\"https://arome1004.cafe24.com/images/opencv/lecture_image/04_yield.png\" width=70%>  "
   ]
  },
  {
   "cell_type": "code",
   "execution_count": null,
   "metadata": {
    "colab": {
     "base_uri": "https://localhost:8080/"
    },
    "executionInfo": {
     "elapsed": 3350,
     "status": "ok",
     "timestamp": 1694707717199,
     "user": {
      "displayName": "강성관",
      "userId": "00571094306841577419"
     },
     "user_tz": -540
    },
    "id": "KhZjMMt8VGjW",
    "outputId": "7508aa06-7aa8-4fe7-9044-21fe7c04f934"
   },
   "outputs": [
    {
     "name": "stdout",
     "output_type": "stream",
     "text": [
      "A\n",
      "B\n",
      "C\n"
     ]
    }
   ],
   "source": [
    "#실습"
   ]
  },
  {
   "cell_type": "code",
   "execution_count": null,
   "metadata": {
    "colab": {
     "base_uri": "https://localhost:8080/"
    },
    "executionInfo": {
     "elapsed": 3119,
     "status": "ok",
     "timestamp": 1694707723087,
     "user": {
      "displayName": "강성관",
      "userId": "00571094306841577419"
     },
     "user_tz": -540
    },
    "id": "i_L1tuGeVGjX",
    "outputId": "0ac17a35-da86-4bd7-acfe-bd6b8e43242d"
   },
   "outputs": [
    {
     "name": "stdout",
     "output_type": "stream",
     "text": [
      "A\n",
      "B\n",
      "C\n"
     ]
    }
   ],
   "source": [
    "#실습"
   ]
  },
  {
   "cell_type": "markdown",
   "metadata": {
    "id": "iEmDj_XGw8Yy"
   },
   "source": [
    "- <font color=red>Response(stream_with_context(test()))</font>\n",
    "  - 텍스트 스트리밍 함수 test()를 실행\n",
    "  \n",
    "  <img src=\"https://arome1004.cafe24.com/images/opencv/lecture_image/04_flask05.png\" width=50%>  "
   ]
  },
  {
   "cell_type": "code",
   "execution_count": null,
   "metadata": {
    "id": "6N8iSSnXVGjW"
   },
   "outputs": [],
   "source": [
    "#실습"
   ]
  },
  {
   "cell_type": "code",
   "execution_count": null,
   "metadata": {
    "colab": {
     "base_uri": "https://localhost:8080/",
     "height": 167
    },
    "executionInfo": {
     "elapsed": 10559,
     "status": "ok",
     "timestamp": 1694707701772,
     "user": {
      "displayName": "강성관",
      "userId": "00571094306841577419"
     },
     "user_tz": -540
    },
    "id": "DPbAom9wVGjW",
    "outputId": "9fe2c8e9-e2e0-45e7-c7ed-00315dabb5d2"
   },
   "outputs": [
    {
     "name": "stdout",
     "output_type": "stream",
     "text": [
      " * Serving Flask app '__main__'\n",
      " * Debug mode: off\n"
     ]
    },
    {
     "name": "stderr",
     "output_type": "stream",
     "text": [
      "WARNING: This is a development server. Do not use it in a production deployment. Use a production WSGI server instead.\n",
      " * Running on http://127.0.0.1:5007\n",
      "Press CTRL+C to quit\n",
      "127.0.0.1 - - [29/Oct/2023 21:43:19] \"GET / HTTP/1.1\" 200 -\n",
      "127.0.0.1 - - [29/Oct/2023 21:43:21] \"GET /favicon.ico HTTP/1.1\" 404 -\n"
     ]
    }
   ],
   "source": [
    "#실습"
   ]
  },
  {
   "cell_type": "markdown",
   "metadata": {
    "id": "U7ys9JL-w8Yy"
   },
   "source": [
    "# 로그인 페이지 만들기"
   ]
  },
  {
   "cell_type": "markdown",
   "metadata": {
    "id": "lSsaim4pw8Yy"
   },
   "source": [
    "- 테이블 생성하기"
   ]
  },
  {
   "cell_type": "code",
   "execution_count": 1,
   "metadata": {
    "id": "kz_n0xxDw8Yy"
   },
   "outputs": [
    {
     "name": "stdout",
     "output_type": "stream",
     "text": [
      "접속 성공\n"
     ]
    }
   ],
   "source": [
    "import cx_Oracle\n",
    "\n",
    "un = \"test_user_kang\"\n",
    "pw = \"test_user_kang\"\n",
    "dsn = \"project-db-campus.smhrd.com:1524/xe\"\n",
    "\n",
    "try :\n",
    "    conn = cx_Oracle.connect(un, pw, dsn)\n",
    "    print(\"접속 성공\")\n",
    "except cx_Oracle.DatabaseError as e :\n",
    "    print(e)   "
   ]
  },
  {
   "cell_type": "code",
   "execution_count": 37,
   "metadata": {
    "id": "6exUVouWw8Yy"
   },
   "outputs": [
    {
     "name": "stdout",
     "output_type": "stream",
     "text": [
      "ORA-00955: name is already used by an existing object\n"
     ]
    }
   ],
   "source": [
    "cur = conn.cursor()\n",
    "\n",
    "query = \"\"\"create table admin_kang_tbl (\n",
    "id varchar(20) primary key,\n",
    "pw varchar(20) not null,\n",
    "name varchar(20) not null)\"\"\"\n",
    "\n",
    "try :\n",
    "    cur.execute(query)\n",
    "    conn.commit()\n",
    "    print(\"테이블 생성 성공\")\n",
    "except cx_Oracle.DatabaseError as e :\n",
    "    print(e)  "
   ]
  },
  {
   "cell_type": "code",
   "execution_count": 4,
   "metadata": {},
   "outputs": [
    {
     "name": "stdout",
     "output_type": "stream",
     "text": [
      "저장완료\n",
      "[('arome', '12345', '홍길동')]\n"
     ]
    }
   ],
   "source": [
    "# id, pw 저장\n",
    "import DB_Control as dc\n",
    "\n",
    "cur = conn.cursor()\n",
    "\n",
    "input_data = {\"id\":\"arome\", \"pw\":\"12345\", \"name\":\"홍길동\"}\n",
    "\n",
    "dc.insertData(conn, cur, \"admin_kang_tbl\", input_data)\n",
    "\n",
    "row = dc.searchAllData(conn, cur, \"admin_kang_tbl\")\n",
    "\n",
    "print(row)"
   ]
  },
  {
   "cell_type": "markdown",
   "metadata": {
    "id": "0hCbQJiyw8Yy"
   },
   "source": [
    "- 로그인 페이지 만들기"
   ]
  },
  {
   "cell_type": "code",
   "execution_count": 12,
   "metadata": {
    "id": "kksqi7GLw8Yz",
    "outputId": "2ce2dc49-5d42-4002-db08-8fcb9fb90e2a"
   },
   "outputs": [
    {
     "name": "stdout",
     "output_type": "stream",
     "text": [
      "Overwriting ./templates/index.html\n"
     ]
    }
   ],
   "source": [
    "%%writefile ./templates/index.html\n",
    "<html>\n",
    "<head>\n",
    "<script>\n",
    "function main() {\n",
    "    document.login.action = \"/main\"\n",
    "}\n",
    "function member() {\n",
    "    document.login.action = \"/member\"\n",
    "}\n",
    "</script>\n",
    "</head>\n",
    "<body>\n",
    "<center>\n",
    "<form method=\"post\" name=\"login\">\n",
    "<table>\n",
    "<tr><td>아이디<td><input type=\"text\" name=\"id\"></tr>\n",
    "<tr><td>패스워드<td><input type=\"text\" name=\"pw\"></tr>\n",
    "<tr align=center><td colspan=2>\n",
    "<input type=\"submit\" value=\"로그인\" onclick=\"main()\"/>\n",
    "<input type=\"submit\" value=\"회원가입\" onclick=\"member()\" /></tr>\n",
    "</table>\n",
    "</form>\n",
    "</center>\n",
    "</body>\n",
    "</html>"
   ]
  },
  {
   "cell_type": "code",
   "execution_count": 13,
   "metadata": {
    "id": "jdNqNYDMw8Yz",
    "outputId": "111195ba-8511-46c6-e7cf-a8717fa53e74"
   },
   "outputs": [
    {
     "name": "stdout",
     "output_type": "stream",
     "text": [
      " * Serving Flask app '__main__'\n",
      " * Debug mode: off\n"
     ]
    },
    {
     "name": "stderr",
     "output_type": "stream",
     "text": [
      "WARNING: This is a development server. Do not use it in a production deployment. Use a production WSGI server instead.\n",
      " * Running on http://172.30.1.21:9014\n",
      "Press CTRL+C to quit\n",
      "172.30.1.21 - - [03/Nov/2023 17:16:47] \"GET / HTTP/1.1\" 200 -\n",
      "172.30.1.21 - - [03/Nov/2023 17:16:47] \"GET /favicon.ico HTTP/1.1\" 404 -\n",
      "172.30.1.21 - - [03/Nov/2023 17:16:50] \"POST /main HTTP/1.1\" 404 -\n"
     ]
    }
   ],
   "source": [
    "from flask import Flask, render_template\n",
    "\n",
    "app = Flask(__name__)\n",
    "\n",
    "@app.route(\"/\")\n",
    "def index() :\n",
    "    return render_template(\"index.html\")\n",
    "\n",
    "if __name__ == \"__main__\" :\n",
    "    app.run(host=\"172.30.1.21\", port=9014)"
   ]
  },
  {
   "cell_type": "markdown",
   "metadata": {
    "id": "9puD5rnsw8Yz"
   },
   "source": [
    "- 회원가입 페이지 만들기"
   ]
  },
  {
   "cell_type": "code",
   "execution_count": 7,
   "metadata": {
    "id": "0GkDK2J8w8Yz",
    "outputId": "fad610e8-31b1-4a74-8bb4-6675dbdf5eb3"
   },
   "outputs": [
    {
     "name": "stdout",
     "output_type": "stream",
     "text": [
      "Writing ./templates/member.html\n"
     ]
    }
   ],
   "source": [
    "%%writefile ./templates/member.html\n",
    "<html>\n",
    "<body>\n",
    "<center>\n",
    "<form method=\"post\" action=\"member_save\">\n",
    "<table>\n",
    "<tr><td>아이디<td><input type=\"text\" name=\"id\"></tr>\n",
    "<tr><td>패스워드<td><input type=\"text\" name=\"pw\"></tr>\n",
    "<tr><td>이름<td><input type=\"text\" name=\"name\"></tr>\n",
    "<tr align=center><td colspan=2>\n",
    "<input type=\"submit\" value=\"회원가입\" name=\"확인\" /></tr>\n",
    "</table>\n",
    "</form>\n",
    "</center>\n",
    "</body>\n",
    "</html>"
   ]
  },
  {
   "cell_type": "code",
   "execution_count": null,
   "metadata": {
    "id": "2zU7imLjw8Yz"
   },
   "outputs": [],
   "source": [
    "#실습"
   ]
  },
  {
   "cell_type": "code",
   "execution_count": null,
   "metadata": {
    "id": "K0ju8i99w8Y0"
   },
   "outputs": [],
   "source": [
    "#실습"
   ]
  },
  {
   "cell_type": "markdown",
   "metadata": {
    "id": "afbj7AtDw8Y0"
   },
   "source": [
    "- 로그인 성공 (메인) 페이지 만들기"
   ]
  },
  {
   "cell_type": "code",
   "execution_count": 8,
   "metadata": {
    "id": "3btDy-ugw8Y0",
    "outputId": "7a936d62-a43e-4d0c-b30b-8ed8ed286976"
   },
   "outputs": [
    {
     "name": "stdout",
     "output_type": "stream",
     "text": [
      "Writing ./templates/main.html\n"
     ]
    }
   ],
   "source": [
    "%%writefile ./templates/main.html\n",
    "<html>\n",
    "<body>\n",
    "<center>\n",
    "<h1><font color=red><b>{{ name }}</b></font>님이 접속하였습니다 ^^</h1>\n",
    "</center>\n",
    "</body>\n",
    "</html>"
   ]
  },
  {
   "cell_type": "code",
   "execution_count": 2,
   "metadata": {
    "id": "OI2-Hpftw8Y1",
    "outputId": "cf71e0e0-ac7a-4a62-9af7-3ff113348b2e"
   },
   "outputs": [
    {
     "name": "stdout",
     "output_type": "stream",
     "text": [
      " * Serving Flask app '__main__'\n",
      " * Debug mode: off\n"
     ]
    },
    {
     "name": "stderr",
     "output_type": "stream",
     "text": [
      "WARNING: This is a development server. Do not use it in a production deployment. Use a production WSGI server instead.\n",
      " * Running on http://172.30.1.21:9017\n",
      "Press CTRL+C to quit\n",
      "172.30.1.21 - - [03/Nov/2023 17:41:33] \"GET / HTTP/1.1\" 200 -\n",
      "172.30.1.21 - - [03/Nov/2023 17:41:33] \"GET /favicon.ico HTTP/1.1\" 404 -\n",
      "172.30.1.21 - - [03/Nov/2023 17:41:36] \"POST /main HTTP/1.1\" 200 -\n"
     ]
    },
    {
     "name": "stdout",
     "output_type": "stream",
     "text": [
      "DB 접속\n",
      "select name from admin_kang_tbl where id='22' and pw='222'\n"
     ]
    },
    {
     "name": "stderr",
     "output_type": "stream",
     "text": [
      "172.30.1.21 - - [03/Nov/2023 17:41:42] \"POST /main HTTP/1.1\" 200 -\n"
     ]
    },
    {
     "name": "stdout",
     "output_type": "stream",
     "text": [
      "DB 접속\n",
      "select name from admin_kang_tbl where id='arome' and pw='12345'\n"
     ]
    }
   ],
   "source": [
    "from flask import Flask, render_template, request\n",
    "import DB_Control as dc\n",
    "\n",
    "app = Flask(__name__)\n",
    "\n",
    "@app.route(\"/\")\n",
    "def index() :\n",
    "    return render_template(\"index.html\")\n",
    "\n",
    "# 로그인\n",
    "# methods=[\"post\"] : 클라이언트에서 post 방식으로 데이터를 수신\n",
    "# get : URL 주소에 실어서 보내는 방식 - 작고 보안이 필요없는 데이터에 사용\n",
    "# post : URL과는 따로 데이터를 보내는 방식 - 크거나 보안이 필요한 데이터에 사용\n",
    "@app.route(\"/main\", methods=[\"post\"])\n",
    "def main() :\n",
    "    # 클라이언트에서 보낸 값을 수신\n",
    "    id = request.form[\"id\"]\n",
    "    pw = request.form[\"pw\"]\n",
    "   \n",
    "    # DB에 해당 id와 pw가 있는지 검색하고 있다면 사용자 이름을 가져온다\n",
    "    username = \"test_user_kang\"\n",
    "    password = \"test_user_kang\"\n",
    "    dsn = \"project-db-campus.smhrd.com:1524/xe\"\n",
    "\n",
    "    conn, cur = dc.db_conn(username, password, dsn)\n",
    "    \n",
    "    # 변경된 결과 확인\n",
    "    row = dc.searchData2(conn, cur, \"admin_kang_tbl\", \"id\", id, \"pw\", pw)\n",
    "           \n",
    "    if row == None :   # id, pw가 틀리다면\n",
    "        return render_template(\"index.html\")\n",
    "    else :\n",
    "        # name : ('홍길동')\n",
    "        # name[0] : 홍길동\n",
    "        return render_template(\"main.html\", name=row[0])\n",
    "    \n",
    "    dc.db_disconn(conn, cur)\n",
    "    \n",
    "# 회원 가입    \n",
    "@app.route(\"/member\")\n",
    "def member() :\n",
    "    pass\n",
    "\n",
    "if __name__ == \"__main__\" :\n",
    "    app.run(host=\"172.30.1.21\", port=9017)"
   ]
  },
  {
   "cell_type": "code",
   "execution_count": null,
   "metadata": {},
   "outputs": [],
   "source": []
  }
 ],
 "metadata": {
  "colab": {
   "provenance": []
  },
  "hide_input": false,
  "kernelspec": {
   "display_name": "Python 3 (ipykernel)",
   "language": "python",
   "name": "python3"
  },
  "language_info": {
   "codemirror_mode": {
    "name": "ipython",
    "version": 3
   },
   "file_extension": ".py",
   "mimetype": "text/x-python",
   "name": "python",
   "nbconvert_exporter": "python",
   "pygments_lexer": "ipython3",
   "version": "3.11.5"
  },
  "toc": {
   "base_numbering": 1,
   "nav_menu": {},
   "number_sections": true,
   "sideBar": true,
   "skip_h1_title": false,
   "title_cell": "Table of Contents",
   "title_sidebar": "Contents",
   "toc_cell": false,
   "toc_position": {
    "height": "calc(100% - 180px)",
    "left": "10px",
    "top": "150px",
    "width": "165px"
   },
   "toc_section_display": true,
   "toc_window_display": true
  }
 },
 "nbformat": 4,
 "nbformat_minor": 1
}
