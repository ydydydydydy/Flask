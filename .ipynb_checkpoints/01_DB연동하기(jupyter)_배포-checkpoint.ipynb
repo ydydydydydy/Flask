{
 "cells": [
  {
   "cell_type": "markdown",
   "metadata": {
    "id": "9ImsFIT8gzGi"
   },
   "source": [
    "# Oracle 설치"
   ]
  },
  {
   "cell_type": "markdown",
   "metadata": {
    "id": "cf3AKBwfzUl1"
   },
   "source": [
    "- Oracle 다운로드\n",
    "  - https://www.oracle.com/kr/database/technologies/oracle-database-software-downloads.html\n",
    "  - Download Oracle Database XE for Windows(ZIP) 버튼을 클릭하여 다운로드\n",
    "\n",
    "<center>  \n",
    "<img src=\"https://arome1004.cafe24.com/images/python_db/lecture_image/001_download.png\" width=50%>\n",
    "</center>    \n",
    "\n"
   ]
  },
  {
   "cell_type": "markdown",
   "metadata": {
    "id": "m6kHh-zmgtRk"
   },
   "source": [
    "- Oracle 설치\n",
    "  - 압축을 풀고 setup.exe 파일을 실행하여 설치\n",
    "    - 설치 폴더 설정\n",
    "    - 접속 패스워드 설정\n",
    "    - TNS Listener 허용 (TNSLSNR.exe)\n",
    "      - 한 시스템에 오라클DB가 여러개 설치가 되어있는 경우 외부에서 접속을 하면 TNS Listener는 SID값을 가지고 어느 오라클DB로 접속시킬지 중개하는 역할\n",
    "    - Java(TM) Platform SE binary 액세스 허용\n",
    "<center>  \n",
    "<img src=\"https://arome1004.cafe24.com/images/python_db/lecture_image/001_install01.png\" width=30%><img src=\"https://arome1004.cafe24.com/images/python_db/lecture_image/001_install02.png\" width=30%><img src=\"https://arome1004.cafe24.com/images/python_db/lecture_image/001_install03.png\" width=30%>\n",
    "</center>    \n",
    "<center>  \n",
    "<img src=\"https://arome1004.cafe24.com/images/python_db/lecture_image/001_install04.png\" width=30%><img src=\"https://arome1004.cafe24.com/images/python_db/lecture_image/001_install05.png\" width=30%><img src=\"https://arome1004.cafe24.com/images/python_db/lecture_image/001_install06.png\" width=30%>\n",
    "</center>   \n",
    "<center>  \n",
    "<img src=\"https://arome1004.cafe24.com/images/python_db/lecture_image/001_install07.png\" width=30%><img src=\"https://arome1004.cafe24.com/images/python_db/lecture_image/001_install08.png\" width=30%><img src=\"https://arome1004.cafe24.com/images/python_db/lecture_image/001_install09.png\" width=30%>\n",
    "</center>"
   ]
  },
  {
   "cell_type": "markdown",
   "metadata": {
    "id": "ntTj-9jcguAZ"
   },
   "source": [
    "- CMS창에서 Oracle 실행\n",
    "  - CMD 창에서 sqlplus 명령어를 실행\n",
    "  - user name은 system으로 password는 설치때 설정한 암호를 입력\n",
    "\n",
    "<center>  \n",
    "<img src=\"https://arome1004.cafe24.com/images/python_db/lecture_image/001_execute001.png\" width=50%>\n",
    "</center>    "
   ]
  },
  {
   "cell_type": "markdown",
   "metadata": {
    "id": "roBZbkoSkb60"
   },
   "source": [
    "- Oracle SQL Developer 다운로드\n",
    "  - https://www.oracle.com/database/sqldeveloper/technologies/download/ 에서 Oracle SQL Developer 다운로드  \n",
    "\n",
    "<center>  \n",
    "<img src=\"https://arome1004.cafe24.com/images/python_db/lecture_image/001_developer001.png\" width=50%>\n",
    "</center>    "
   ]
  },
  {
   "cell_type": "markdown",
   "metadata": {
    "id": "IA32axZdltuP"
   },
   "source": [
    "- Oracle SQL Developer의 압축을 풀고 sqldeveloper.exe 실행하여 설치 후 실행\n",
    "\n",
    "<center>  \n",
    "<img src=\"https://arome1004.cafe24.com/images/python_db/lecture_image/001_developer002.png\" width=30%><img src=\"https://arome1004.cafe24.com/images/python_db/lecture_image/001_developer003.png\" width=20%>\n",
    "</center>  "
   ]
  },
  {
   "cell_type": "markdown",
   "metadata": {
    "id": "S9Vjcm7Zn-WK"
   },
   "source": [
    "- \\+ 아이콘을 클릭\n",
    "\n",
    "<center>  \n",
    "<img src=\"https://arome1004.cafe24.com/images/python_db/lecture_image/001_developer004.png\" width=50%>\n",
    "</center>\n",
    "\n"
   ]
  },
  {
   "cell_type": "markdown",
   "metadata": {
    "id": "4qwUfssCqVK9"
   },
   "source": [
    "- 접속정보를 입력하고 접속 버튼을 클릭\n",
    "  \n",
    "<center>  \n",
    "<img src=\"https://arome1004.cafe24.com/images/python_db/lecture_image/001_developer005.png\" width=40%>\n",
    "</center>\n",
    "<center>  \n",
    "<img src=\"https://arome1004.cafe24.com/images/python_db/lecture_image/001_developer006.png\" width=40%>\n",
    "</center>"
   ]
  },
  {
   "cell_type": "markdown",
   "metadata": {
    "id": "S6ROIIi8qzmu"
   },
   "source": [
    "# Oracle DB에 접속하기"
   ]
  },
  {
   "cell_type": "markdown",
   "metadata": {
    "id": "xOKZqzAJq7JK"
   },
   "source": [
    "- Python에서 Oracle Database 에 접속해서 DB 작업을 할 수 있도록 도와주는 라이브러리에 cx_Oracle과 python-oracledb 가 있음\n",
    "\n",
    "- cx_Oracle 라이브러리의 구조\n",
    "  - 반드시 cx_Oracle을 사용하는 파이썬 프로그램이 돌아가는 서버에 Oracle Client가 설치되어 있어야 함\n",
    "\n",
    "<center>  \n",
    "<img src=\"https://arome1004.cafe24.com/images/python_db/lecture_image/001_python-cxoracle_arch.png\" width=40%><br><font size=1>참고 : https://cx-oracle.readthedocs.io</font>\n",
    "</center>\n",
    "\n",
    "- python-oracledb 라이브러리\n",
    "  - cx_Oracle의 업그레이드 버전 : 기능 추가\n",
    "  - 참고 : https://python-oracledb.readthedocs.io/en/latest/user_guide/installation.html\n",
    "  - thin 모드와 thick 모드 지원\n",
    "    - thin 모드 : 서버에 Oracle Client가 없어도 됨\n",
    "      - DB Startup/Stop, TAF기능사용, BFILE Type 지원, 21c JSON Data Type 지원, 2PC 등의 기능을 사용할 수 없음\n",
    "    - thick 모드 : 서버에 Oracle Client가 있어야 됨\n",
    "\n",
    "  - oracledb.init_oracle_client()가 들어가면 thick 모드로 동작\n",
    "  \n",
    "<center>  \n",
    "<img src=\"https://arome1004.cafe24.com/images/python_db/lecture_image/001_python-oracledb-arch.png\" width=40%><br><font size=1>참고 : https://cx-oracle.readthedocs.io</font>\n",
    "</center><br>\n",
    "\n",
    "<center>  \n",
    "<img src=\"https://arome1004.cafe24.com/images/python_db/lecture_image/001_python-oracledb-arch2.png\" width=40%><br><font size=1>참고 : https://cx-oracle.readthedocs.io</font>\n",
    "</center>\n",
    "\n",
    "\n",
    "  \n"
   ]
  },
  {
   "cell_type": "markdown",
   "metadata": {
    "id": "T42f_BMTmfTr"
   },
   "source": [
    "- 라이브러리 설치"
   ]
  },
  {
   "cell_type": "code",
   "execution_count": 2,
   "metadata": {
    "colab": {
     "base_uri": "https://localhost:8080/"
    },
    "id": "3Q_fWNvk49ra",
    "outputId": "9e97378c-93d2-45dd-81d0-4eda34a13dc1"
   },
   "outputs": [
    {
     "name": "stdout",
     "output_type": "stream",
     "text": [
      "Requirement already satisfied: cx_Oracle in c:\\users\\smhrd\\anaconda3\\lib\\site-packages (8.3.0)\n"
     ]
    }
   ],
   "source": [
    "!pip install cx_Oracle"
   ]
  },
  {
   "cell_type": "markdown",
   "metadata": {},
   "source": [
    "- 설치오류가 뜨는 경우\n",
    "  - https://visualstudio.microsoft.com/visual-cpp-build-tools/ 에서 Build Tool 다운로드\n",
    "  - Build Tool을 실행\n",
    "  - C++를 사용한 데스크톱 개발을 선택하고 설치 버튼을 클릭하여 설치\n",
    "  \n",
    "  \n",
    "<center>  \n",
    "<img src=\"https://arome1004.cafe24.com/images/python_db/lecture_image/001_buildtool.png\" width=40%>\n",
    "</center>  \n",
    "  \n",
    "<center>  \n",
    "<img src=\"https://arome1004.cafe24.com/images/python_db/lecture_image/001_buildtool_02.png\" width=40%>\n",
    "</center>  \n",
    "\n",
    "<center>  \n",
    "<img src=\"https://arome1004.cafe24.com/images/python_db/lecture_image/001_buildtool_03.png\" width=40%>\n",
    "</center>  \n",
    "    \n",
    "<center>  \n",
    "<img src=\"https://arome1004.cafe24.com/images/python_db/lecture_image/001_buildtool_04.png\" width=80%>\n",
    "</center>      "
   ]
  },
  {
   "cell_type": "markdown",
   "metadata": {
    "id": "xtVrJ_E2rDoa"
   },
   "source": [
    "- 오라클 접속하기\n",
    "\n",
    "\n"
   ]
  },
  {
   "cell_type": "code",
   "execution_count": 1,
   "metadata": {
    "colab": {
     "base_uri": "https://localhost:8080/"
    },
    "id": "fiouWvBWcJ8a",
    "outputId": "94f4236f-4538-4b22-fdca-c44d6227b96c"
   },
   "outputs": [
    {
     "name": "stdout",
     "output_type": "stream",
     "text": [
      "DB 접속 성공\n"
     ]
    }
   ],
   "source": [
    "import cx_Oracle\n",
    "\n",
    "un = \"test_user_kang\"\n",
    "pw = \"test_user_kang\"\n",
    "# IP: 포트/xe\n",
    "\n",
    "dsn = \"project-db-campus.smhrd.com:1524/xe\"\n",
    "\n",
    "# DB 연결 테스트\n",
    "try:\n",
    "    conn = cx_Oracle.connect(un, pw, dsn)\n",
    "    print(\"DB 접속 성공\")\n",
    "# 접속 오류가 뜨는 경우\n",
    "except cx_Oracle.DatabaseError as e:\n",
    "    print(e)"
   ]
  },
  {
   "cell_type": "markdown",
   "metadata": {
    "id": "bdJcok4JuM5F"
   },
   "source": [
    "## DPI-1047: Cannot locate a 64-bit Oracle Client library 오류가 뜨는 경우\n",
    "\n",
    "- Windows\n",
    "  - https://www.oracle.com/database/technologies/instant-client/winx64-64-downloads.html 에서 오라클 클라이언트 라이브러리를 다운로드\n",
    "  - 압축을 해제하고 C/IC21 폴더로 instantclient_xx_xx 폴더를 이동\n",
    "\n",
    "<center>  \n",
    "<img src=\"https://arome1004.cafe24.com/images/python_db/lecture_image/001_python-cxoracle_window.png\" width=50%>\n",
    "</center>  \n",
    "\n",
    "- Linux\n",
    "  - https://www.oracle.com/database/free/get-started/ 에서 오라클 클라이언트 라이브러리를 다운로드\n",
    "   - 설정 : https://docs.oracle.com/en/database/oracle/oracle-database/23/lacli/install-instant-client-using-zip.html#GUID-D3DCB4FB-D3CA-4C25-BE48-3A1FB5A22E84\n",
    "\n",
    "<center>  \n",
    "<img src=\"https://arome1004.cafe24.com/images/python_db/lecture_image/001_python-cxoracle_linux.png\" width=50%>\n",
    "</center>  \n",
    "\n"
   ]
  },
  {
   "cell_type": "markdown",
   "metadata": {
    "id": "rmReY0tHy29Z"
   },
   "source": [
    "- 오라클 instant client 등록"
   ]
  },
  {
   "cell_type": "code",
   "execution_count": 2,
   "metadata": {
    "id": "7VWf0ONYy1YB"
   },
   "outputs": [
    {
     "ename": "ProgrammingError",
     "evalue": "Oracle Client library has already been initialized",
     "output_type": "error",
     "traceback": [
      "\u001b[1;31m---------------------------------------------------------------------------\u001b[0m",
      "\u001b[1;31mProgrammingError\u001b[0m                          Traceback (most recent call last)",
      "Cell \u001b[1;32mIn[2], line 1\u001b[0m\n\u001b[1;32m----> 1\u001b[0m cx_Oracle\u001b[38;5;241m.\u001b[39minit_oracle_client(lib_dir\u001b[38;5;241m=\u001b[39m\u001b[38;5;124mr\u001b[39m\u001b[38;5;124m\"\u001b[39m\u001b[38;5;124mC:\u001b[39m\u001b[38;5;124m\\\u001b[39m\u001b[38;5;124mIC21\u001b[39m\u001b[38;5;124m\\\u001b[39m\u001b[38;5;124minstantclient_21_11\u001b[39m\u001b[38;5;124m\"\u001b[39m)\n",
      "\u001b[1;31mProgrammingError\u001b[0m: Oracle Client library has already been initialized"
     ]
    }
   ],
   "source": [
    "# cx_Oracle.init_oracle_client(lib_dir=r\"C:\\IC21\\instantclient_21_11\")"
   ]
  },
  {
   "cell_type": "code",
   "execution_count": 3,
   "metadata": {
    "id": "CukdRZ_VkbVc"
   },
   "outputs": [],
   "source": [
    "#실습"
   ]
  },
  {
   "cell_type": "markdown",
   "metadata": {},
   "source": [
    "# 데이터 입력, 수정, 삭제, 검색 "
   ]
  },
  {
   "cell_type": "markdown",
   "metadata": {},
   "source": [
    "- 커서 객체 생성하기\n",
    "    - Cursor 객체 : 작성한 query문을 DB에 전송하거나 DB의 검색 결과를 가져오는 역할"
   ]
  },
  {
   "cell_type": "code",
   "execution_count": 7,
   "metadata": {},
   "outputs": [],
   "source": [
    "cursor = conn.cursor()"
   ]
  },
  {
   "cell_type": "markdown",
   "metadata": {},
   "source": [
    "- 테이블 생성하기"
   ]
  },
  {
   "cell_type": "code",
   "execution_count": 6,
   "metadata": {
    "id": "Fm8khWhgrmgn"
   },
   "outputs": [],
   "source": [
    "query = \"\"\"create table test_tbl3 (\n",
    "    code varchar(10) primary key,\n",
    "    name varchar(10) not null,\n",
    "    age integer not null)\"\"\"\n",
    "\n",
    "try :\n",
    "    # 쿼리문을 DB로 보내 실행\n",
    "    cursor.execute(query)\n",
    "    # 실행 확인\n",
    "    conn.commit()\n",
    "except cx_Oracle.DatabaseError as e :\n",
    "    print(e)"
   ]
  },
  {
   "cell_type": "markdown",
   "metadata": {},
   "source": [
    "- 생성한 테이블 목록보기"
   ]
  },
  {
   "cell_type": "code",
   "execution_count": 8,
   "metadata": {
    "collapsed": true,
    "id": "CoupbgBHrmjP"
   },
   "outputs": [
    {
     "name": "stdout",
     "output_type": "stream",
     "text": [
      "[('MEMBER_TBL', 'USERS', None, None, 'VALID', 10, None, 1, 255, 65536, 1048576, 1, 2147483645, None, None, None, 'YES', 'N', 2, 5, 0, 0, 0, 32, 0, 0, '         1', '         1', '    N', 'ENABLED', 2, datetime.datetime(2023, 11, 2, 22, 0, 9), 'NO', None, 'N', 'N', 'NO', 'DEFAULT', 'DEFAULT', 'DEFAULT', 'DISABLED', 'YES', 'NO', None, 'DISABLED', 'YES', None, 'DISABLED', 'DISABLED', None, 'NO', 'NO', 'YES', 'DEFAULT'), ('SSONG_TBL', 'USERS', None, None, 'VALID', 10, None, 1, 255, 65536, 1048576, 1, 2147483645, None, None, None, 'YES', 'N', 1, 5, 0, 0, 0, 16, 0, 0, '         1', '         1', '    N', 'ENABLED', 1, datetime.datetime(2023, 11, 3, 22, 0, 8), 'NO', None, 'N', 'N', 'NO', 'DEFAULT', 'DEFAULT', 'DEFAULT', 'DISABLED', 'YES', 'NO', None, 'DISABLED', 'YES', None, 'DISABLED', 'DISABLED', None, 'NO', 'NO', 'YES', 'DEFAULT'), ('EUN0_TBL', 'USERS', None, None, 'VALID', 10, None, 1, 255, 65536, 1048576, 1, 2147483645, None, None, None, 'YES', 'N', 1, 5, 0, 0, 0, 19, 0, 0, '         1', '         1', '    N', 'ENABLED', 1, datetime.datetime(2023, 11, 3, 22, 0, 8), 'NO', None, 'N', 'N', 'NO', 'DEFAULT', 'DEFAULT', 'DEFAULT', 'DISABLED', 'YES', 'NO', None, 'DISABLED', 'YES', None, 'DISABLED', 'DISABLED', None, 'NO', 'NO', 'YES', 'DEFAULT'), ('HYEON_TBL', 'USERS', None, None, 'VALID', 10, None, 1, 255, 65536, 1048576, 1, 2147483645, None, None, None, 'YES', 'N', 0, 0, 0, 0, 0, 0, 0, 0, '         1', '         1', '    N', 'ENABLED', 0, datetime.datetime(2023, 11, 3, 22, 0, 8), 'NO', None, 'N', 'N', 'NO', 'DEFAULT', 'DEFAULT', 'DEFAULT', 'DISABLED', 'YES', 'NO', None, 'DISABLED', 'YES', None, 'DISABLED', 'DISABLED', None, 'NO', 'NO', 'YES', 'DEFAULT'), ('KYS_TB2', 'USERS', None, None, 'VALID', 10, None, 1, 255, 65536, 1048576, 1, 2147483645, None, None, None, 'YES', 'N', 1, 5, 0, 0, 0, 21, 0, 0, '         1', '         1', '    N', 'ENABLED', 1, datetime.datetime(2023, 11, 3, 22, 0, 8), 'NO', None, 'N', 'N', 'NO', 'DEFAULT', 'DEFAULT', 'DEFAULT', 'DISABLED', 'YES', 'NO', None, 'DISABLED', 'YES', None, 'DISABLED', 'DISABLED', None, 'NO', 'NO', 'YES', 'DEFAULT'), ('H_TBL', 'USERS', None, None, 'VALID', 10, None, 1, 255, 65536, 1048576, 1, 2147483645, None, None, None, 'YES', 'N', 1, 5, 0, 0, 0, 22, 0, 0, '         1', '         1', '    N', 'ENABLED', 1, datetime.datetime(2023, 11, 3, 22, 0, 8), 'NO', None, 'N', 'N', 'NO', 'DEFAULT', 'DEFAULT', 'DEFAULT', 'DISABLED', 'YES', 'NO', None, 'DISABLED', 'YES', None, 'DISABLED', 'DISABLED', None, 'NO', 'NO', 'YES', 'DEFAULT'), ('GOBOMI_TBL', 'USERS', None, None, 'VALID', 10, None, 1, 255, 65536, 1048576, 1, 2147483645, None, None, None, 'YES', 'N', 1, 5, 0, 0, 0, 22, 0, 0, '         1', '         1', '    N', 'ENABLED', 1, datetime.datetime(2023, 11, 3, 22, 0, 8), 'NO', None, 'N', 'N', 'NO', 'DEFAULT', 'DEFAULT', 'DEFAULT', 'DISABLED', 'YES', 'NO', None, 'DISABLED', 'YES', None, 'DISABLED', 'DISABLED', None, 'NO', 'NO', 'YES', 'DEFAULT'), ('KMG_TABLE', 'USERS', None, None, 'VALID', 10, None, 1, 255, 65536, 1048576, 1, 2147483645, None, None, None, 'YES', 'N', 0, 0, 0, 0, 0, 0, 0, 0, '         1', '         1', '    N', 'ENABLED', 0, datetime.datetime(2023, 11, 3, 22, 0, 8), 'NO', None, 'N', 'N', 'NO', 'DEFAULT', 'DEFAULT', 'DEFAULT', 'DISABLED', 'YES', 'NO', None, 'DISABLED', 'YES', None, 'DISABLED', 'DISABLED', None, 'NO', 'NO', 'YES', 'DEFAULT'), ('MARI_TBL', 'USERS', None, None, 'VALID', 10, None, 1, 255, 65536, 1048576, 1, 2147483645, None, None, None, 'YES', 'N', 2, 5, 0, 0, 0, 11, 0, 0, '         1', '         1', '    N', 'ENABLED', 2, datetime.datetime(2023, 11, 4, 14, 5, 9), 'NO', None, 'N', 'N', 'NO', 'DEFAULT', 'DEFAULT', 'DEFAULT', 'DISABLED', 'YES', 'NO', None, 'DISABLED', 'YES', None, 'DISABLED', 'DISABLED', None, 'NO', 'NO', 'YES', 'DEFAULT'), ('JHJ_TABLE', 'USERS', None, None, 'VALID', 10, None, 1, 255, 65536, 1048576, 1, 2147483645, None, None, None, 'YES', 'N', 13, 5, 0, 0, 0, 18, 0, 0, '         1', '         1', '    N', 'ENABLED', 13, datetime.datetime(2023, 11, 2, 22, 0, 8), 'NO', None, 'N', 'N', 'NO', 'DEFAULT', 'DEFAULT', 'DEFAULT', 'DISABLED', 'YES', 'NO', None, 'DISABLED', 'YES', None, 'DISABLED', 'DISABLED', None, 'NO', 'NO', 'YES', 'DEFAULT'), ('MINGLY_TBL', 'USERS', None, None, 'VALID', 10, None, 1, 255, 65536, 1048576, 1, 2147483645, None, None, None, 'YES', 'N', 2, 5, 0, 0, 0, 19, 0, 0, '         1', '         1', '    N', 'ENABLED', 2, datetime.datetime(2023, 11, 1, 22, 0, 8), 'NO', None, 'N', 'N', 'NO', 'DEFAULT', 'DEFAULT', 'DEFAULT', 'DISABLED', 'YES', 'NO', None, 'DISABLED', 'YES', None, 'DISABLED', 'DISABLED', None, 'NO', 'NO', 'YES', 'DEFAULT'), ('AROME_TBL', 'USERS', None, None, 'VALID', 10, None, 1, 255, 65536, 1048576, 1, 2147483645, None, None, None, 'YES', 'N', 4, 5, 0, 0, 0, 15, 0, 0, '         1', '         1', '    N', 'ENABLED', 4, datetime.datetime(2023, 11, 2, 22, 0, 8), 'NO', None, 'N', 'N', 'NO', 'DEFAULT', 'DEFAULT', 'DEFAULT', 'DISABLED', 'YES', 'NO', None, 'DISABLED', 'YES', None, 'DISABLED', 'DISABLED', None, 'NO', 'NO', 'YES', 'DEFAULT'), ('JIHO_TBL', 'USERS', None, None, 'VALID', 10, None, 1, 255, 65536, 1048576, 1, 2147483645, None, None, None, 'YES', 'N', 3, 5, 0, 0, 0, 18, 0, 0, '         1', '         1', '    N', 'ENABLED', 3, datetime.datetime(2023, 11, 2, 22, 0, 8), 'NO', None, 'N', 'N', 'NO', 'DEFAULT', 'DEFAULT', 'DEFAULT', 'DISABLED', 'YES', 'NO', None, 'DISABLED', 'YES', None, 'DISABLED', 'DISABLED', None, 'NO', 'NO', 'YES', 'DEFAULT'), ('SHJ_TBL', 'USERS', None, None, 'VALID', 10, None, 1, 255, 65536, 1048576, 1, 2147483645, None, None, None, 'YES', 'N', 5, 5, 0, 0, 0, 15, 0, 0, '         1', '         1', '    N', 'ENABLED', 5, datetime.datetime(2023, 11, 2, 22, 0, 9), 'NO', None, 'N', 'N', 'NO', 'DEFAULT', 'DEFAULT', 'DEFAULT', 'DISABLED', 'YES', 'NO', None, 'DISABLED', 'YES', None, 'DISABLED', 'DISABLED', None, 'NO', 'NO', 'YES', 'DEFAULT'), ('TEST1_TBL', 'USERS', None, None, 'VALID', 10, None, 1, 255, 65536, 1048576, 1, 2147483645, None, None, None, 'YES', 'N', 2, 5, 0, 0, 0, 18, 0, 0, '         1', '         1', '    N', 'ENABLED', 2, datetime.datetime(2023, 11, 2, 22, 0, 9), 'NO', None, 'N', 'N', 'NO', 'DEFAULT', 'DEFAULT', 'DEFAULT', 'DISABLED', 'YES', 'NO', None, 'DISABLED', 'YES', None, 'DISABLED', 'DISABLED', None, 'NO', 'NO', 'YES', 'DEFAULT'), ('JSGED_TBL', 'USERS', None, None, 'VALID', 10, None, 1, 255, 65536, 1048576, 1, 2147483645, None, None, None, 'YES', 'N', 3, 5, 0, 0, 0, 16, 0, 0, '         1', '         1', '    N', 'ENABLED', 3, datetime.datetime(2023, 11, 2, 22, 0, 8), 'NO', None, 'N', 'N', 'NO', 'DEFAULT', 'DEFAULT', 'DEFAULT', 'DISABLED', 'YES', 'NO', None, 'DISABLED', 'YES', None, 'DISABLED', 'DISABLED', None, 'NO', 'NO', 'YES', 'DEFAULT'), ('PSH_TBL', 'USERS', None, None, 'VALID', 10, None, 1, 255, 65536, 1048576, 1, 2147483645, None, None, None, 'YES', 'N', 0, 0, 0, 0, 0, 0, 0, 0, '         1', '         1', '    N', 'ENABLED', 0, datetime.datetime(2023, 11, 1, 22, 0, 8), 'NO', None, 'N', 'N', 'NO', 'DEFAULT', 'DEFAULT', 'DEFAULT', 'DISABLED', 'YES', 'NO', None, 'DISABLED', 'YES', None, 'DISABLED', 'DISABLED', None, 'NO', 'NO', 'YES', 'DEFAULT'), ('JINEW_TBL', 'USERS', None, None, 'VALID', 10, None, 1, 255, 65536, 1048576, 1, 2147483645, None, None, None, 'YES', 'N', 2, 5, 0, 0, 0, 18, 0, 0, '         1', '         1', '    N', 'ENABLED', 2, datetime.datetime(2023, 11, 2, 22, 0, 9), 'NO', None, 'N', 'N', 'NO', 'DEFAULT', 'DEFAULT', 'DEFAULT', 'DISABLED', 'YES', 'NO', None, 'DISABLED', 'YES', None, 'DISABLED', 'DISABLED', None, 'NO', 'NO', 'YES', 'DEFAULT'), ('HYUK1', 'USERS', None, None, 'VALID', 10, None, 1, 255, 65536, 1048576, 1, 2147483645, None, None, None, 'YES', 'N', 3, 5, 0, 0, 0, 9, 0, 0, '         1', '         1', '    N', 'ENABLED', 3, datetime.datetime(2023, 11, 3, 22, 0, 8), 'NO', None, 'N', 'N', 'NO', 'DEFAULT', 'DEFAULT', 'DEFAULT', 'DISABLED', 'YES', 'NO', None, 'DISABLED', 'YES', None, 'DISABLED', 'DISABLED', None, 'NO', 'NO', 'YES', 'DEFAULT'), ('JUMYEONG_TBL', 'USERS', None, None, 'VALID', 10, None, 1, 255, 65536, 1048576, 1, 2147483645, None, None, None, 'YES', 'N', 5, 5, 0, 0, 0, 20, 0, 0, '         1', '         1', '    N', 'ENABLED', 5, datetime.datetime(2023, 11, 2, 22, 0, 9), 'NO', None, 'N', 'N', 'NO', 'DEFAULT', 'DEFAULT', 'DEFAULT', 'DISABLED', 'YES', 'NO', None, 'DISABLED', 'YES', None, 'DISABLED', 'DISABLED', None, 'NO', 'NO', 'YES', 'DEFAULT'), ('DAEUN_DB', 'USERS', None, None, 'VALID', 10, None, 1, 255, 65536, 1048576, 1, 2147483645, None, None, None, 'YES', 'N', 2, 5, 0, 0, 0, 17, 0, 0, '         1', '         1', '    N', 'ENABLED', 2, datetime.datetime(2023, 11, 2, 22, 0, 9), 'NO', None, 'N', 'N', 'NO', 'DEFAULT', 'DEFAULT', 'DEFAULT', 'DISABLED', 'YES', 'NO', None, 'DISABLED', 'YES', None, 'DISABLED', 'DISABLED', None, 'NO', 'NO', 'YES', 'DEFAULT'), ('BOMIGO_TBL', 'USERS', None, None, 'VALID', 10, None, 1, 255, 65536, 1048576, 1, 2147483645, None, None, None, 'YES', 'N', 2, 5, 0, 0, 0, 18, 0, 0, '         1', '         1', '    N', 'ENABLED', 2, datetime.datetime(2023, 11, 2, 22, 0, 8), 'NO', None, 'N', 'N', 'NO', 'DEFAULT', 'DEFAULT', 'DEFAULT', 'DISABLED', 'YES', 'NO', None, 'DISABLED', 'YES', None, 'DISABLED', 'DISABLED', None, 'NO', 'NO', 'YES', 'DEFAULT'), ('JINGYU_TBL', 'USERS', None, None, 'VALID', 10, None, 1, 255, 65536, 1048576, 1, 2147483645, None, None, None, 'YES', 'N', 10, 5, 0, 0, 0, 17, 0, 0, '         1', '         1', '    N', 'ENABLED', 10, datetime.datetime(2023, 11, 2, 22, 0, 8), 'NO', None, 'N', 'N', 'NO', 'DEFAULT', 'DEFAULT', 'DEFAULT', 'DISABLED', 'YES', 'NO', None, 'DISABLED', 'YES', None, 'DISABLED', 'DISABLED', None, 'NO', 'NO', 'YES', 'DEFAULT'), ('SEO_TBL', 'USERS', None, None, 'VALID', 10, None, 1, 255, 65536, 1048576, 1, 2147483645, None, None, None, 'YES', 'N', 2, 5, 0, 0, 0, 18, 0, 0, '         1', '         1', '    N', 'ENABLED', 2, datetime.datetime(2023, 11, 2, 22, 0, 9), 'NO', None, 'N', 'N', 'NO', 'DEFAULT', 'DEFAULT', 'DEFAULT', 'DISABLED', 'YES', 'NO', None, 'DISABLED', 'YES', None, 'DISABLED', 'DISABLED', None, 'NO', 'NO', 'YES', 'DEFAULT'), ('JG_TBL', 'USERS', None, None, 'VALID', 10, None, 1, 255, 65536, 1048576, 1, 2147483645, None, None, None, 'YES', 'N', 3, 5, 0, 0, 0, 15, 0, 0, '         1', '         1', '    N', 'ENABLED', 3, datetime.datetime(2023, 11, 2, 22, 0, 8), 'NO', None, 'N', 'N', 'NO', 'DEFAULT', 'DEFAULT', 'DEFAULT', 'DISABLED', 'YES', 'NO', None, 'DISABLED', 'YES', None, 'DISABLED', 'DISABLED', None, 'NO', 'NO', 'YES', 'DEFAULT'), ('SUBIN_TB', 'USERS', None, None, 'VALID', 10, None, 1, 255, 65536, 1048576, 1, 2147483645, None, None, None, 'YES', 'N', 3, 5, 0, 0, 0, 12, 0, 0, '         1', '         1', '    N', 'ENABLED', 3, datetime.datetime(2023, 11, 2, 22, 0, 8), 'NO', None, 'N', 'N', 'NO', 'DEFAULT', 'DEFAULT', 'DEFAULT', 'DISABLED', 'YES', 'NO', None, 'DISABLED', 'YES', None, 'DISABLED', 'DISABLED', None, 'NO', 'NO', 'YES', 'DEFAULT'), ('HS_TABLE', 'USERS', None, None, 'VALID', 10, None, 1, 255, 65536, 1048576, 1, 2147483645, None, None, None, 'YES', 'N', 6, 5, 0, 0, 0, 15, 0, 0, '         1', '         1', '    N', 'ENABLED', 6, datetime.datetime(2023, 11, 2, 22, 0, 8), 'NO', None, 'N', 'N', 'NO', 'DEFAULT', 'DEFAULT', 'DEFAULT', 'DISABLED', 'YES', 'NO', None, 'DISABLED', 'YES', None, 'DISABLED', 'DISABLED', None, 'NO', 'NO', 'YES', 'DEFAULT'), ('NULLYNULLY_TBL', 'USERS', None, None, 'VALID', 10, None, 1, 255, 65536, 1048576, 1, 2147483645, None, None, None, 'YES', 'N', 2, 5, 0, 0, 0, 10, 0, 0, '         1', '         1', '    N', 'ENABLED', 2, datetime.datetime(2023, 11, 2, 22, 0, 8), 'NO', None, 'N', 'N', 'NO', 'DEFAULT', 'DEFAULT', 'DEFAULT', 'DISABLED', 'YES', 'NO', None, 'DISABLED', 'YES', None, 'DISABLED', 'DISABLED', None, 'NO', 'NO', 'YES', 'DEFAULT'), ('KYS_TB', 'USERS', None, None, 'VALID', 10, None, 1, 255, 65536, 1048576, 1, 2147483645, None, None, None, 'YES', 'N', 5, 5, 0, 0, 0, 17, 0, 0, '         1', '         1', '    N', 'ENABLED', 5, datetime.datetime(2023, 11, 2, 22, 0, 8), 'NO', None, 'N', 'N', 'NO', 'DEFAULT', 'DEFAULT', 'DEFAULT', 'DISABLED', 'YES', 'NO', None, 'DISABLED', 'YES', None, 'DISABLED', 'DISABLED', None, 'NO', 'NO', 'YES', 'DEFAULT'), ('GH_TBL', 'USERS', None, None, 'VALID', 10, None, 1, 255, 65536, 1048576, 1, 2147483645, None, None, None, 'YES', 'N', 10, 5, 0, 0, 0, 18, 0, 0, '         1', '         1', '    N', 'ENABLED', 10, datetime.datetime(2023, 11, 2, 22, 0, 8), 'NO', None, 'N', 'N', 'NO', 'DEFAULT', 'DEFAULT', 'DEFAULT', 'DISABLED', 'YES', 'NO', None, 'DISABLED', 'YES', None, 'DISABLED', 'DISABLED', None, 'NO', 'NO', 'YES', 'DEFAULT'), ('HYUK2', 'USERS', None, None, 'VALID', 10, None, 1, 255, 65536, 1048576, 1, 2147483645, None, None, None, 'YES', 'N', 0, 0, 0, 0, 0, 0, 0, 0, '         1', '         1', '    N', 'ENABLED', 0, datetime.datetime(2023, 11, 1, 22, 0, 8), 'NO', None, 'N', 'N', 'NO', 'DEFAULT', 'DEFAULT', 'DEFAULT', 'DISABLED', 'YES', 'NO', None, 'DISABLED', 'YES', None, 'DISABLED', 'DISABLED', None, 'NO', 'NO', 'YES', 'DEFAULT'), ('ASDF13', 'USERS', None, None, 'VALID', 10, None, 1, 255, 65536, 1048576, 1, 2147483645, None, None, None, 'YES', 'N', 7, 5, 0, 0, 0, 16, 0, 0, '         1', '         1', '    N', 'ENABLED', 7, datetime.datetime(2023, 11, 2, 22, 0, 8), 'NO', None, 'N', 'N', 'NO', 'DEFAULT', 'DEFAULT', 'DEFAULT', 'DISABLED', 'YES', 'NO', None, 'DISABLED', 'YES', None, 'DISABLED', 'DISABLED', None, 'NO', 'NO', 'YES', 'DEFAULT'), ('JINGYU_TEST2', 'USERS', None, None, 'VALID', 10, None, 1, 255, 65536, 1048576, 1, 2147483645, None, None, None, 'YES', 'N', 0, 0, 0, 0, 0, 0, 0, 0, '         1', '         1', '    N', 'ENABLED', 0, datetime.datetime(2023, 11, 1, 22, 0, 8), 'NO', None, 'N', 'N', 'NO', 'DEFAULT', 'DEFAULT', 'DEFAULT', 'DISABLED', 'YES', 'NO', None, 'DISABLED', 'YES', None, 'DISABLED', 'DISABLED', None, 'NO', 'NO', 'YES', 'DEFAULT'), ('JINGYU_TEST', 'USERS', None, None, 'VALID', 10, None, 1, 255, 65536, 1048576, 1, 2147483645, None, None, None, 'YES', 'N', 0, 0, 0, 0, 0, 0, 0, 0, '         1', '         1', '    N', 'ENABLED', 0, datetime.datetime(2023, 11, 1, 22, 0, 8), 'NO', None, 'N', 'N', 'NO', 'DEFAULT', 'DEFAULT', 'DEFAULT', 'DISABLED', 'YES', 'NO', None, 'DISABLED', 'YES', None, 'DISABLED', 'DISABLED', None, 'NO', 'NO', 'YES', 'DEFAULT'), ('JINGYU_TEST3', 'USERS', None, None, 'VALID', 10, None, 1, 255, 65536, 1048576, 1, 2147483645, None, None, None, 'YES', 'N', 0, 0, 0, 0, 0, 0, 0, 0, '         1', '         1', '    N', 'ENABLED', 0, datetime.datetime(2023, 11, 1, 22, 0, 8), 'NO', None, 'N', 'N', 'NO', 'DEFAULT', 'DEFAULT', 'DEFAULT', 'DISABLED', 'YES', 'NO', None, 'DISABLED', 'YES', None, 'DISABLED', 'DISABLED', None, 'NO', 'NO', 'YES', 'DEFAULT'), ('GUNHAK_TBL', 'USERS', None, None, 'VALID', 10, None, 1, 255, 65536, 1048576, 1, 2147483645, None, None, None, 'YES', 'N', 0, 5, 0, 0, 0, 0, 0, 0, '         1', '         1', '    N', 'ENABLED', 0, datetime.datetime(2023, 11, 2, 22, 0, 7), 'NO', None, 'N', 'N', 'NO', 'DEFAULT', 'DEFAULT', 'DEFAULT', 'DISABLED', 'YES', 'NO', None, 'DISABLED', 'YES', None, 'DISABLED', 'DISABLED', None, 'NO', 'NO', 'YES', 'DEFAULT'), ('JINGYU_TEST5', 'USERS', None, None, 'VALID', 10, None, 1, 255, 65536, 1048576, 1, 2147483645, None, None, None, 'YES', 'N', 0, 0, 0, 0, 0, 0, 0, 0, '         1', '         1', '    N', 'ENABLED', 0, datetime.datetime(2023, 11, 1, 22, 0, 8), 'NO', None, 'N', 'N', 'NO', 'DEFAULT', 'DEFAULT', 'DEFAULT', 'DISABLED', 'YES', 'NO', None, 'DISABLED', 'YES', None, 'DISABLED', 'DISABLED', None, 'NO', 'NO', 'YES', 'DEFAULT'), ('PHONE_TBL', 'USERS', None, None, 'VALID', 10, None, 1, 255, 65536, 1048576, 1, 2147483645, None, None, None, 'YES', 'N', 1, 5, 0, 0, 0, 17, 0, 0, '         1', '         1', '    N', 'ENABLED', 1, datetime.datetime(2023, 10, 25, 22, 0, 9), 'NO', None, 'N', 'N', 'NO', 'DEFAULT', 'DEFAULT', 'DEFAULT', 'DISABLED', 'YES', 'NO', None, 'DISABLED', 'YES', None, 'DISABLED', 'DISABLED', None, 'NO', 'NO', 'YES', 'DEFAULT'), ('TEST_TBL', 'USERS', None, None, 'VALID', 10, None, 1, 255, 65536, 1048576, 1, 2147483645, None, None, None, 'YES', 'N', None, None, None, None, None, None, None, None, '         1', '         1', '    N', 'ENABLED', None, None, 'NO', None, 'N', 'N', 'NO', 'DEFAULT', 'DEFAULT', 'DEFAULT', 'DISABLED', 'NO', 'NO', None, 'DISABLED', 'YES', None, 'DISABLED', 'DISABLED', None, 'NO', 'NO', 'YES', 'DEFAULT'), ('HONG', 'USERS', None, None, 'VALID', 10, None, 1, 255, 65536, 1048576, 1, 2147483645, None, None, None, 'YES', 'N', None, None, None, None, None, None, None, None, '         1', '         1', '    N', 'ENABLED', None, None, 'NO', None, 'N', 'N', 'NO', 'DEFAULT', 'DEFAULT', 'DEFAULT', 'DISABLED', 'NO', 'NO', None, 'DISABLED', 'YES', None, 'DISABLED', 'DISABLED', None, 'NO', 'NO', 'YES', 'DEFAULT'), ('TEST_TBL3', 'USERS', None, None, 'VALID', 10, None, 1, 255, 65536, 1048576, 1, 2147483645, None, None, None, 'YES', 'N', None, None, None, None, None, None, None, None, '         1', '         1', '    N', 'ENABLED', None, None, 'NO', None, 'N', 'N', 'NO', 'DEFAULT', 'DEFAULT', 'DEFAULT', 'DISABLED', 'NO', 'NO', None, 'DISABLED', 'YES', None, 'DISABLED', 'DISABLED', None, 'NO', 'NO', 'YES', 'DEFAULT'), ('ADMIN_TBL', 'USERS', None, None, 'VALID', 10, None, 1, 255, 65536, 1048576, 1, 2147483645, None, None, None, 'YES', 'N', 2, 5, 0, 0, 0, 20, 0, 0, '         1', '         1', '    N', 'ENABLED', 2, datetime.datetime(2023, 10, 30, 22, 0, 7), 'NO', None, 'N', 'N', 'NO', 'DEFAULT', 'DEFAULT', 'DEFAULT', 'DISABLED', 'YES', 'NO', None, 'DISABLED', 'YES', None, 'DISABLED', 'DISABLED', None, 'NO', 'NO', 'YES', 'DEFAULT'), ('KM_TABLE', 'USERS', None, None, 'VALID', 10, None, 1, 255, 65536, 1048576, 1, 2147483645, None, None, None, 'YES', 'N', 0, 0, 0, 0, 0, 0, 0, 0, '         1', '         1', '    N', 'ENABLED', 0, datetime.datetime(2023, 11, 4, 14, 5, 8), 'NO', None, 'N', 'N', 'NO', 'DEFAULT', 'DEFAULT', 'DEFAULT', 'DISABLED', 'YES', 'NO', None, 'DISABLED', 'YES', None, 'DISABLED', 'DISABLED', None, 'NO', 'NO', 'YES', 'DEFAULT'), ('WORD_TBL', 'USERS', None, None, 'VALID', 10, None, 1, 255, 65536, 1048576, 1, 2147483645, None, None, None, 'YES', 'N', 9, 5, 0, 0, 0, 19, 0, 0, '         1', '         1', '    N', 'ENABLED', 9, datetime.datetime(2023, 10, 25, 22, 0, 9), 'NO', None, 'N', 'N', 'NO', 'DEFAULT', 'DEFAULT', 'DEFAULT', 'DISABLED', 'YES', 'NO', None, 'DISABLED', 'YES', None, 'DISABLED', 'DISABLED', None, 'NO', 'NO', 'YES', 'DEFAULT')]\n"
     ]
    }
   ],
   "source": [
    "query = \"select * from tabs\"\n",
    "\n",
    "try :\n",
    "    cursor.execute(query)\n",
    "    \n",
    "    # 검색한 결과를 받아온다\n",
    "    # fetchall() : 검색한 전체 데이터를 가져온다\n",
    "    row = cursor.fetchall()\n",
    "    \n",
    "    print(row)\n",
    "except cx_Oracle.DatabaseError as e:\n",
    "    print(e)"
   ]
  },
  {
   "cell_type": "markdown",
   "metadata": {},
   "source": [
    "- DB에 데이터 저장하기"
   ]
  },
  {
   "cell_type": "code",
   "execution_count": 10,
   "metadata": {
    "id": "APKwmBXArml1"
   },
   "outputs": [
    {
     "ename": "NameError",
     "evalue": "name 'input_data' is not defined",
     "output_type": "error",
     "traceback": [
      "\u001b[1;31m---------------------------------------------------------------------------\u001b[0m",
      "\u001b[1;31mNameError\u001b[0m                                 Traceback (most recent call last)",
      "Cell \u001b[1;32mIn[10], line 5\u001b[0m\n\u001b[0;32m      1\u001b[0m query \u001b[38;5;241m=\u001b[39m \u001b[38;5;124m\"\u001b[39m\u001b[38;5;124minsert into test_tbl3 values (\u001b[39m\u001b[38;5;124m'\u001b[39m\u001b[38;5;124mA100\u001b[39m\u001b[38;5;124m'\u001b[39m\u001b[38;5;124m, \u001b[39m\u001b[38;5;124m'\u001b[39m\u001b[38;5;124m김유신\u001b[39m\u001b[38;5;124m'\u001b[39m\u001b[38;5;124m, 56)\u001b[39m\u001b[38;5;124m\"\u001b[39m\n\u001b[0;32m      3\u001b[0m \u001b[38;5;28;01mtry\u001b[39;00m :\n\u001b[0;32m      4\u001b[0m     \u001b[38;5;66;03m# 쿼리문에 입력한 데이터를 할당해서 쿼리문을 완성해서 실행\u001b[39;00m\n\u001b[1;32m----> 5\u001b[0m     cursor\u001b[38;5;241m.\u001b[39mexecute(query, input_data)\n\u001b[0;32m      6\u001b[0m     conn\u001b[38;5;241m.\u001b[39mcommit()\n\u001b[0;32m      7\u001b[0m     \u001b[38;5;28mprint\u001b[39m(\u001b[38;5;124m\"\u001b[39m\u001b[38;5;124m데이터 저장 완료\u001b[39m\u001b[38;5;124m\"\u001b[39m)\n",
      "\u001b[1;31mNameError\u001b[0m: name 'input_data' is not defined"
     ]
    }
   ],
   "source": [
    "query = \"insert into test_tbl3 values ('A100', '김유신', 56)\"\n",
    "\n",
    "try :\n",
    "    # 쿼리문에 입력한 데이터를 할당해서 쿼리문을 완성해서 실행\n",
    "    cursor.execute(query, input_data)\n",
    "    conn.commit()\n",
    "    print(\"데이터 저장 완료\")\n",
    "except cx_Oracle.DatabaseError as e:\n",
    "    print(e)"
   ]
  },
  {
   "cell_type": "markdown",
   "metadata": {},
   "source": [
    "- 직접 데이터를 입력하여 DB로 저장 "
   ]
  },
  {
   "cell_type": "code",
   "execution_count": null,
   "metadata": {},
   "outputs": [],
   "source": [
    "code = input(\"코드 입력 : \")\n",
    "name = input(\"이름 입력 : \")\n",
    "age = int(input(\"나이 입력 : \"))\n",
    "\n",
    "# 입력한 데이터를 딕셔너리로 저장\n",
    "input_data = {\"code\":code, \"name\":name, \"age\":age}\n",
    "\n",
    "# 입력한 데이터가 포함되도록 쿼리문을 생성\n",
    "# 괄호 안에 :키값 형태로 표시\n",
    "query = \"insert into test_table values (:code, :name, :age)\"\n",
    "\n",
    "try :\n",
    "    # 쿼리문에 입력한 데이터를 할당해서 쿼리문을 완성해서 실행\n",
    "    cursor.execute(query, input_data)\n",
    "    conn.commit()\n",
    "    print(\"데이터 저장 완료\")\n",
    "except cx_Oracle.DatabaseError as e :\n",
    "    print(e)"
   ]
  },
  {
   "cell_type": "markdown",
   "metadata": {},
   "source": [
    "- 중간 결과를 확인하고자 하는 경우"
   ]
  },
  {
   "cell_type": "code",
   "execution_count": null,
   "metadata": {},
   "outputs": [],
   "source": [
    "code = input(\"코드 입력 : \")\n",
    "name = input(\"이름 입력 : \")\n",
    "age = int(input(\"나이 입력 : \"))\n",
    "\n",
    "query = \"insert into test_table values ('{code}'', '{name}', '{age}')\"\n",
    "\n",
    "print(query)\n",
    "\n",
    "try :\n",
    "    cursor.execute(query, input_data)\n",
    "    conn.commit()\n",
    "    print(\"데이터 저장 완료\")\n",
    "except cx_Oracle.DatabaseError as e :\n",
    "    print(e)"
   ]
  },
  {
   "cell_type": "markdown",
   "metadata": {
    "id": "h96svISQrmop"
   },
   "source": [
    "- DB에서 원하는 테이블의 전체 데이터 가져오기"
   ]
  },
  {
   "cell_type": "code",
   "execution_count": 31,
   "metadata": {
    "id": "QVd0ieD7rmrb",
    "scrolled": true
   },
   "outputs": [
    {
     "data": {
      "text/plain": [
       "[('A100', '홍길동', 23, '의적', '장성'),\n",
       " ('A200', '이순신', 34, '장군', '여수'),\n",
       " ('A300', '김유신', 45, '장군', '경주')]"
      ]
     },
     "metadata": {},
     "output_type": "display_data"
    }
   ],
   "source": [
    "query = \"select * from test_tbl\"\n",
    "\n",
    "try :\n",
    "    cursor.execute(query)\n",
    "    row = cursor.fetchall()\n",
    "    \n",
    "except cx_Oracle.DatabaseError as e :\n",
    "    print(e)"
   ]
  },
  {
   "cell_type": "markdown",
   "metadata": {},
   "source": [
    "- 결과를 데이터 프레임으로 출력하기 "
   ]
  },
  {
   "cell_type": "code",
   "execution_count": null,
   "metadata": {},
   "outputs": [],
   "source": [
    "import pandas as pd\n",
    "df = pd.DataFrame(row, columns=[\"코드\", \"이름\", \"나이\"])\n",
    "\n",
    "df"
   ]
  },
  {
   "cell_type": "markdown",
   "metadata": {},
   "source": [
    "- DB에서 원하는 테이블의 데이터를 키워드로 검색하기"
   ]
  },
  {
   "cell_type": "code",
   "execution_count": 1,
   "metadata": {},
   "outputs": [
    {
     "ename": "KeyboardInterrupt",
     "evalue": "Interrupted by user",
     "output_type": "error",
     "traceback": [
      "\u001b[1;31m---------------------------------------------------------------------------\u001b[0m",
      "\u001b[1;31mKeyboardInterrupt\u001b[0m                         Traceback (most recent call last)",
      "Cell \u001b[1;32mIn[1], line 1\u001b[0m\n\u001b[1;32m----> 1\u001b[0m code \u001b[38;5;241m=\u001b[39m \u001b[38;5;28minput\u001b[39m(\u001b[38;5;124m\"\u001b[39m\u001b[38;5;124m검색할 코드 입력 : \u001b[39m\u001b[38;5;124m\"\u001b[39m)\n\u001b[0;32m      3\u001b[0m input_data \u001b[38;5;241m=\u001b[39m {\u001b[38;5;124m\"\u001b[39m\u001b[38;5;124mcode\u001b[39m\u001b[38;5;124m\"\u001b[39m:code}\n\u001b[0;32m      5\u001b[0m \u001b[38;5;66;03m# : 앞에 빈 공백을 쓰지 X\u001b[39;00m\n",
      "File \u001b[1;32m~\\anaconda3\\Lib\\site-packages\\ipykernel\\kernelbase.py:1202\u001b[0m, in \u001b[0;36mKernel.raw_input\u001b[1;34m(self, prompt)\u001b[0m\n\u001b[0;32m   1200\u001b[0m     msg \u001b[38;5;241m=\u001b[39m \u001b[38;5;124m\"\u001b[39m\u001b[38;5;124mraw_input was called, but this frontend does not support input requests.\u001b[39m\u001b[38;5;124m\"\u001b[39m\n\u001b[0;32m   1201\u001b[0m     \u001b[38;5;28;01mraise\u001b[39;00m StdinNotImplementedError(msg)\n\u001b[1;32m-> 1202\u001b[0m \u001b[38;5;28;01mreturn\u001b[39;00m \u001b[38;5;28mself\u001b[39m\u001b[38;5;241m.\u001b[39m_input_request(\n\u001b[0;32m   1203\u001b[0m     \u001b[38;5;28mstr\u001b[39m(prompt),\n\u001b[0;32m   1204\u001b[0m     \u001b[38;5;28mself\u001b[39m\u001b[38;5;241m.\u001b[39m_parent_ident[\u001b[38;5;124m\"\u001b[39m\u001b[38;5;124mshell\u001b[39m\u001b[38;5;124m\"\u001b[39m],\n\u001b[0;32m   1205\u001b[0m     \u001b[38;5;28mself\u001b[39m\u001b[38;5;241m.\u001b[39mget_parent(\u001b[38;5;124m\"\u001b[39m\u001b[38;5;124mshell\u001b[39m\u001b[38;5;124m\"\u001b[39m),\n\u001b[0;32m   1206\u001b[0m     password\u001b[38;5;241m=\u001b[39m\u001b[38;5;28;01mFalse\u001b[39;00m,\n\u001b[0;32m   1207\u001b[0m )\n",
      "File \u001b[1;32m~\\anaconda3\\Lib\\site-packages\\ipykernel\\kernelbase.py:1245\u001b[0m, in \u001b[0;36mKernel._input_request\u001b[1;34m(self, prompt, ident, parent, password)\u001b[0m\n\u001b[0;32m   1242\u001b[0m \u001b[38;5;28;01mexcept\u001b[39;00m \u001b[38;5;167;01mKeyboardInterrupt\u001b[39;00m:\n\u001b[0;32m   1243\u001b[0m     \u001b[38;5;66;03m# re-raise KeyboardInterrupt, to truncate traceback\u001b[39;00m\n\u001b[0;32m   1244\u001b[0m     msg \u001b[38;5;241m=\u001b[39m \u001b[38;5;124m\"\u001b[39m\u001b[38;5;124mInterrupted by user\u001b[39m\u001b[38;5;124m\"\u001b[39m\n\u001b[1;32m-> 1245\u001b[0m     \u001b[38;5;28;01mraise\u001b[39;00m \u001b[38;5;167;01mKeyboardInterrupt\u001b[39;00m(msg) \u001b[38;5;28;01mfrom\u001b[39;00m \u001b[38;5;28;01mNone\u001b[39;00m\n\u001b[0;32m   1246\u001b[0m \u001b[38;5;28;01mexcept\u001b[39;00m \u001b[38;5;167;01mException\u001b[39;00m:\n\u001b[0;32m   1247\u001b[0m     \u001b[38;5;28mself\u001b[39m\u001b[38;5;241m.\u001b[39mlog\u001b[38;5;241m.\u001b[39mwarning(\u001b[38;5;124m\"\u001b[39m\u001b[38;5;124mInvalid Message:\u001b[39m\u001b[38;5;124m\"\u001b[39m, exc_info\u001b[38;5;241m=\u001b[39m\u001b[38;5;28;01mTrue\u001b[39;00m)\n",
      "\u001b[1;31mKeyboardInterrupt\u001b[0m: Interrupted by user"
     ]
    }
   ],
   "source": [
    "code = input(\"검색할 코드 입력 : \")\n",
    "\n",
    "input_data = {\"code\":code}\n",
    "\n",
    "# : 앞에 빈 공백을 쓰지 X\n",
    "query = \"select * from test_tbl where code=:code\"\n",
    "\n",
    "try :\n",
    "    # 쿼리문에 입력한 데이터를 등록해서 완성\n",
    "    row = cursor.fetchall()\n",
    "    \n",
    "    # 검색한 1개의 데이터만 가져온다\n",
    "    # row = cursor.fetchall()\n",
    "    \n",
    "    # 데이터프레임에 출력하려면\n",
    "    row = cursor.fetchall()\n",
    "    \n",
    "    print(row)\n",
    "except cx_Oracle.DatabaseError as e :\n",
    "    print(e)"
   ]
  },
  {
   "cell_type": "code",
   "execution_count": null,
   "metadata": {},
   "outputs": [],
   "source": [
    "df = pd.DataFrame(row, columns=[\"코드\", \"이름\", \"나이\"])"
   ]
  },
  {
   "cell_type": "markdown",
   "metadata": {
    "id": "HEhEOw2ormuc"
   },
   "source": [
    "- 데이터 변경하기"
   ]
  },
  {
   "cell_type": "code",
   "execution_count": null,
   "metadata": {
    "id": "tUNAOe76rmw7",
    "scrolled": true
   },
   "outputs": [],
   "source": [
    "code = input(\"변경할 코드 : \")\n",
    "name = input(\"변경할 이름 : \")\n",
    "age = int(input(\"변경할 나이 : \"))\n",
    "\n",
    "input_data = {\"code\":code, \"name\":name, \"age\":age}\n",
    "\n",
    "query = \"update test_tbl set name=:name, age=:age where code=:code\" \n",
    "\n",
    "try :\n",
    "    cursor.execute(query, input_data)\n",
    "    conn.commit()\n",
    "    print(\"데이터 저장 완료\")\n",
    "except cx_Oracle.DatabaseError as e :\n",
    "    print(e)"
   ]
  },
  {
   "cell_type": "markdown",
   "metadata": {},
   "source": [
    "- 데이터 삭제하기"
   ]
  },
  {
   "cell_type": "code",
   "execution_count": 42,
   "metadata": {},
   "outputs": [
    {
     "name": "stdout",
     "output_type": "stream",
     "text": [
      "삭제할 코드 : A100\n",
      "삭제 완료\n"
     ]
    },
    {
     "data": {
      "text/plain": [
       "[('A200', '이순신', 34, '장군', '여수'), ('A300', '김유신', 45, '장군', '경주')]"
      ]
     },
     "metadata": {},
     "output_type": "display_data"
    }
   ],
   "source": [
    "#실습"
   ]
  },
  {
   "cell_type": "markdown",
   "metadata": {},
   "source": [
    "- 접속종료"
   ]
  },
  {
   "cell_type": "code",
   "execution_count": null,
   "metadata": {},
   "outputs": [],
   "source": [
    "#실습"
   ]
  },
  {
   "cell_type": "markdown",
   "metadata": {},
   "source": [
    "# 모듈로 제작하기 - 클래스를 안 배운 경우"
   ]
  },
  {
   "cell_type": "code",
   "execution_count": 1,
   "metadata": {},
   "outputs": [
    {
     "name": "stdout",
     "output_type": "stream",
     "text": [
      "Overwriting DB_Control.py\n"
     ]
    }
   ],
   "source": [
    "#실습"
   ]
  },
  {
   "cell_type": "code",
   "execution_count": 2,
   "metadata": {},
   "outputs": [
    {
     "name": "stdout",
     "output_type": "stream",
     "text": [
      "접속 완료\n"
     ]
    }
   ],
   "source": [
    "#실습"
   ]
  },
  {
   "cell_type": "code",
   "execution_count": 3,
   "metadata": {},
   "outputs": [
    {
     "name": "stdout",
     "output_type": "stream",
     "text": [
      "코드 : 1\n",
      "이름 : 1\n",
      "나이 : 1\n",
      "직업 : 1\n",
      "주소 : 1\n",
      "insert into member_tbl values (:code,:name,:age,:job,:addr)\n",
      "입력 완료\n"
     ]
    }
   ],
   "source": [
    "#실습"
   ]
  },
  {
   "cell_type": "code",
   "execution_count": 3,
   "metadata": {},
   "outputs": [
    {
     "name": "stdout",
     "output_type": "stream",
     "text": [
      "[('A200', '이순신', 34, '장군', '여수'), ('A100', '홍길동', 23, '의적', '장성'), ('1', '1', 1, '1', '1')]\n"
     ]
    }
   ],
   "source": [
    "#실습"
   ]
  },
  {
   "cell_type": "code",
   "execution_count": 5,
   "metadata": {},
   "outputs": [
    {
     "name": "stdout",
     "output_type": "stream",
     "text": [
      "코드 : A200\n",
      "[('A200', '이순신', 34, '장군', '여수')]\n"
     ]
    }
   ],
   "source": [
    "#실습"
   ]
  },
  {
   "cell_type": "code",
   "execution_count": 5,
   "metadata": {},
   "outputs": [
    {
     "name": "stdout",
     "output_type": "stream",
     "text": [
      "코드 : 1\n",
      "이름 : 3\n",
      "나이 : 3\n",
      "직업 : 3\n",
      "주소 : 3\n",
      "update member_tbl set name=:name,age=:age,job=:job,addr=:addr where code='1'\n",
      "변경 완료\n",
      "[('A200', '이순신', 34, '장군', '여수'), ('A100', '홍길동', 23, '의적', '장성'), ('1', '3', 3, '3', '3')]\n"
     ]
    }
   ],
   "source": [
    "#실습"
   ]
  },
  {
   "cell_type": "code",
   "execution_count": 3,
   "metadata": {},
   "outputs": [
    {
     "name": "stdout",
     "output_type": "stream",
     "text": [
      "코드 : 1\n",
      "삭제 완료\n",
      "[('A200', '이순신', 34, '장군', '여수'), ('A100', '홍길동', 23, '의적', '장성')]\n"
     ]
    }
   ],
   "source": [
    "#실습"
   ]
  },
  {
   "cell_type": "code",
   "execution_count": 4,
   "metadata": {},
   "outputs": [
    {
     "name": "stdout",
     "output_type": "stream",
     "text": [
      "접속 종료\n"
     ]
    }
   ],
   "source": [
    "#실습"
   ]
  }
 ],
 "metadata": {
  "colab": {
   "provenance": []
  },
  "hide_input": false,
  "kernelspec": {
   "display_name": "Python 3 (ipykernel)",
   "language": "python",
   "name": "python3"
  },
  "language_info": {
   "codemirror_mode": {
    "name": "ipython",
    "version": 3
   },
   "file_extension": ".py",
   "mimetype": "text/x-python",
   "name": "python",
   "nbconvert_exporter": "python",
   "pygments_lexer": "ipython3",
   "version": "3.11.5"
  },
  "toc": {
   "base_numbering": 1,
   "nav_menu": {},
   "number_sections": true,
   "sideBar": true,
   "skip_h1_title": false,
   "title_cell": "Table of Contents",
   "title_sidebar": "Contents",
   "toc_cell": false,
   "toc_position": {},
   "toc_section_display": true,
   "toc_window_display": false
  }
 },
 "nbformat": 4,
 "nbformat_minor": 1
}
